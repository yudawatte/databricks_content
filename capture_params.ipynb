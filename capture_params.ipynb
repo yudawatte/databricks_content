{
 "cells": [
  {
   "cell_type": "code",
   "execution_count": 0,
   "metadata": {
    "application/vnd.databricks.v1+cell": {
     "cellMetadata": {},
     "inputWidgets": {},
     "nuid": "9f3e436c-7fe1-4439-b797-d58cc0f7e4da",
     "showTitle": false,
     "tableResultSettingsMap": {},
     "title": ""
    }
   },
   "outputs": [],
   "source": [
    "dbutils.widgets.dropdown(\"env_stage\", \"dev\", [\"dev\", \"prod\"], \"Pipeline stage\")\n",
    "\n",
    "dbutils.widgets.dropdown(\"exclude_pms\", \"False\", [\"True\", \"False\"], \"Exclude PMS\")\n",
    "\n",
    "dbutils.widgets.dropdown(\"target_type\", \"REVENUE\", [\"REVENUE\", \"ROOMS\"], \"Target Type\")\n",
    "\n",
    "dbutils.widgets.text(\"selected_hotels\", \"\", \"Hotels\")\n",
    "\n",
    "dbutils.widgets.dropdown(\"cache_models\", \"False\", [\"True\", \"False\"], \"Run Cache Models\")"
   ]
  },
  {
   "cell_type": "code",
   "execution_count": 0,
   "metadata": {
    "application/vnd.databricks.v1+cell": {
     "cellMetadata": {},
     "inputWidgets": {},
     "nuid": "3888eeba-a0b5-4be2-b8d7-9316d668fd5e",
     "showTitle": false,
     "tableResultSettingsMap": {},
     "title": ""
    }
   },
   "outputs": [],
   "source": [
    "def str_to_bool(value):\n",
    "  FALSE_VALUES = ['false', 'no', '0']\n",
    "  TRUE_VALUES = ['true', 'yes', '1']\n",
    "  lvalue = str(value).lower()\n",
    "  if lvalue in (FALSE_VALUES): return False\n",
    "  if lvalue in (TRUE_VALUES):  return True\n",
    "  raise Exception(\"String value should be one of {}, but got '{}'.\".format(FALSE_VALUES + TRUE_VALUES, value))\n",
    "\n",
    "def extract_selected_hotels(value):\n",
    "    if value == \"\":\n",
    "        return []\n",
    "    elif \",\" in value:\n",
    "        hotels = value.split(\",\")\n",
    "        return hotels\n",
    "\n",
    "    return [value]\n",
    "\n",
    "selected_hotels = extract_selected_hotels(getArgument(\"selected_hotels\"))"
   ]
  },
  {
   "cell_type": "code",
   "execution_count": 0,
   "metadata": {
    "application/vnd.databricks.v1+cell": {
     "cellMetadata": {},
     "inputWidgets": {},
     "nuid": "4b6e0579-5e3e-45d9-b5dd-8a6696803550",
     "showTitle": false,
     "tableResultSettingsMap": {},
     "title": ""
    }
   },
   "outputs": [],
   "source": [
    "selected_hotels"
   ]
  },
  {
   "cell_type": "code",
   "execution_count": 0,
   "metadata": {
    "application/vnd.databricks.v1+cell": {
     "cellMetadata": {},
     "inputWidgets": {},
     "nuid": "716fcaab-a801-41bc-8da1-e6f4f48e38af",
     "showTitle": false,
     "tableResultSettingsMap": {},
     "title": ""
    }
   },
   "outputs": [],
   "source": [
    "dbutils.jobs.taskValues.set(key= 'SELECTED_HOTELS', value = selected_hotels)"
   ]
  }
 ],
 "metadata": {
  "application/vnd.databricks.v1+notebook": {
   "computePreferences": null,
   "dashboards": [],
   "environmentMetadata": null,
   "language": "python",
   "notebookMetadata": {
    "pythonIndentUnit": 4
   },
   "notebookName": "capture_params",
   "widgets": {}
  },
  "language_info": {
   "name": "python"
  }
 },
 "nbformat": 4,
 "nbformat_minor": 0
}