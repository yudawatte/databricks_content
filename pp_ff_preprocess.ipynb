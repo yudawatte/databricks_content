{
 "cells": [
  {
   "cell_type": "code",
   "execution_count": 0,
   "metadata": {
    "application/vnd.databricks.v1+cell": {
     "cellMetadata": {
      "byteLimit": 2048000,
      "rowLimit": 10000
     },
     "inputWidgets": {},
     "nuid": "aa2ae82e-27d5-4887-b253-dd324c47d6d4",
     "showTitle": false,
     "tableResultSettingsMap": {},
     "title": ""
    }
   },
   "outputs": [
    {
     "output_type": "display_data",
     "data": {
      "text/html": [
       "<style scoped>\n",
       "  .ansiout {\n",
       "    display: block;\n",
       "    unicode-bidi: embed;\n",
       "    white-space: pre-wrap;\n",
       "    word-wrap: break-word;\n",
       "    word-break: break-all;\n",
       "    font-family: \"Menlo\", \"Monaco\", \"Consolas\", \"Ubuntu Mono\", \"Source Code Pro\", monospace;\n",
       "    font-size: 13px;\n",
       "    color: #555;\n",
       "    margin-left: 4px;\n",
       "    line-height: 19px;\n",
       "  }\n",
       "</style>\n",
       "<div class=\"ansiout\">Python interpreter will be restarted.\n",
       "Python interpreter will be restarted.\n",
       "</div>"
      ]
     },
     "metadata": {
      "application/vnd.databricks.v1+output": {
       "addedWidgets": {},
       "arguments": {},
       "data": "<div class=\"ansiout\">Python interpreter will be restarted.\nPython interpreter will be restarted.\n</div>",
       "datasetInfos": [],
       "metadata": {},
       "removedWidgets": [],
       "type": "html"
      }
     },
     "output_type": "display_data"
    }
   ],
   "source": [
    "%pip install /dbfs/FileStore/python-wheels/dev/phgml-1.4.0-py3-none-any.whl -q"
   ]
  },
  {
   "cell_type": "code",
   "execution_count": 0,
   "metadata": {
    "application/vnd.databricks.v1+cell": {
     "cellMetadata": {
      "byteLimit": 2048000,
      "rowLimit": 10000
     },
     "inputWidgets": {},
     "nuid": "347c1ea5-0869-4574-9ec0-5e4dc14673d0",
     "showTitle": false,
     "tableResultSettingsMap": {},
     "title": ""
    }
   },
   "outputs": [
    {
     "output_type": "display_data",
     "data": {
      "text/html": [
       "<style scoped>\n",
       "  .ansiout {\n",
       "    display: block;\n",
       "    unicode-bidi: embed;\n",
       "    white-space: pre-wrap;\n",
       "    word-wrap: break-word;\n",
       "    word-break: break-all;\n",
       "    font-family: \"Menlo\", \"Monaco\", \"Consolas\", \"Ubuntu Mono\", \"Source Code Pro\", monospace;\n",
       "    font-size: 13px;\n",
       "    color: #555;\n",
       "    margin-left: 4px;\n",
       "    line-height: 19px;\n",
       "  }\n",
       "</style>\n",
       "<div class=\"ansiout\"></div>"
      ]
     },
     "metadata": {
      "application/vnd.databricks.v1+output": {
       "addedWidgets": {},
       "arguments": {},
       "data": "<div class=\"ansiout\"></div>",
       "datasetInfos": [],
       "metadata": {},
       "removedWidgets": [],
       "type": "html"
      }
     },
     "output_type": "display_data"
    }
   ],
   "source": [
    "dbutils.widgets.dropdown(\"ca_aware\", \"True\", [\"True\", \"False\"], \"Cancellation Aware\")\n",
    "dbutils.widgets.dropdown(\"is_usd_currency\", \"True\", [\"True\", \"False\"], \"Use USD currency\")\n",
    "dbutils.widgets.text(\"forecast_points\", \"91,84,77,70,63,56,49,42,35\", \"Forecast points\")"
   ]
  },
  {
   "cell_type": "code",
   "execution_count": 0,
   "metadata": {
    "application/vnd.databricks.v1+cell": {
     "cellMetadata": {
      "byteLimit": 2048000,
      "rowLimit": 10000
     },
     "inputWidgets": {},
     "nuid": "76fbfe5c-16ba-4480-9fc2-5f20a3a56d04",
     "showTitle": false,
     "tableResultSettingsMap": {},
     "title": ""
    }
   },
   "outputs": [
    {
     "output_type": "display_data",
     "data": {
      "text/html": [
       "<style scoped>\n",
       "  .ansiout {\n",
       "    display: block;\n",
       "    unicode-bidi: embed;\n",
       "    white-space: pre-wrap;\n",
       "    word-wrap: break-word;\n",
       "    word-break: break-all;\n",
       "    font-family: \"Menlo\", \"Monaco\", \"Consolas\", \"Ubuntu Mono\", \"Source Code Pro\", monospace;\n",
       "    font-size: 13px;\n",
       "    color: #555;\n",
       "    margin-left: 4px;\n",
       "    line-height: 19px;\n",
       "  }\n",
       "</style>\n",
       "<div class=\"ansiout\"></div>"
      ]
     },
     "metadata": {
      "application/vnd.databricks.v1+output": {
       "addedWidgets": {},
       "arguments": {},
       "data": "<div class=\"ansiout\"></div>",
       "datasetInfos": [],
       "metadata": {},
       "removedWidgets": [],
       "type": "html"
      }
     },
     "output_type": "display_data"
    }
   ],
   "source": [
    "from typing import List\n",
    "import pandas as pd\n",
    "import pyspark.sql.functions as F\n",
    "import logging\n",
    "import datetime\n",
    "import os\n",
    "import sys"
   ]
  },
  {
   "cell_type": "code",
   "execution_count": 0,
   "metadata": {
    "application/vnd.databricks.v1+cell": {
     "cellMetadata": {
      "byteLimit": 2048000,
      "rowLimit": 10000
     },
     "inputWidgets": {},
     "nuid": "0afcf7d3-eb6e-42a4-8ee7-6a3a371f201c",
     "showTitle": false,
     "tableResultSettingsMap": {},
     "title": ""
    }
   },
   "outputs": [
    {
     "output_type": "display_data",
     "data": {
      "text/html": [
       "<style scoped>\n",
       "  .ansiout {\n",
       "    display: block;\n",
       "    unicode-bidi: embed;\n",
       "    white-space: pre-wrap;\n",
       "    word-wrap: break-word;\n",
       "    word-break: break-all;\n",
       "    font-family: \"Menlo\", \"Monaco\", \"Consolas\", \"Ubuntu Mono\", \"Source Code Pro\", monospace;\n",
       "    font-size: 13px;\n",
       "    color: #555;\n",
       "    margin-left: 4px;\n",
       "    line-height: 19px;\n",
       "  }\n",
       "</style>\n",
       "<div class=\"ansiout\"></div>"
      ]
     },
     "metadata": {
      "application/vnd.databricks.v1+output": {
       "addedWidgets": {},
       "arguments": {},
       "data": "<div class=\"ansiout\"></div>",
       "datasetInfos": [],
       "metadata": {},
       "removedWidgets": [],
       "type": "html"
      }
     },
     "output_type": "display_data"
    }
   ],
   "source": [
    "def str_to_bool(value):\n",
    "  FALSE_VALUES = ['false', 'no', '0']\n",
    "  TRUE_VALUES = ['true', 'yes', '1']\n",
    "  lvalue = str(value).lower()\n",
    "  if lvalue in (FALSE_VALUES): return False\n",
    "  if lvalue in (TRUE_VALUES):  return True\n",
    "  raise Exception(\"String value should be one of {}, but got '{}'.\".format(FALSE_VALUES + TRUE_VALUES, value))\n",
    "\n",
    "def extract_param_values(value: str)-> List[str]:\n",
    "    \"\"\"\n",
    "    The function takes comma seperated strings and return list of strings\n",
    "\n",
    "    input params:\n",
    "        value (str) : comma seperated strings\n",
    "\n",
    "    output:\n",
    "        (List) : list of strings\n",
    "    \"\"\"\n",
    "    if value == \"\":\n",
    "        return []\n",
    "    elif \",\" in value:\n",
    "        val_lst = value.split(\",\")\n",
    "        return val_lst\n",
    "    else:\n",
    "        return [value]"
   ]
  },
  {
   "cell_type": "code",
   "execution_count": 0,
   "metadata": {
    "application/vnd.databricks.v1+cell": {
     "cellMetadata": {
      "byteLimit": 2048000,
      "rowLimit": 10000
     },
     "inputWidgets": {},
     "nuid": "51f1105c-bc59-463c-bc5b-ea626fd65f7f",
     "showTitle": false,
     "tableResultSettingsMap": {},
     "title": ""
    }
   },
   "outputs": [
    {
     "output_type": "display_data",
     "data": {
      "text/html": [
       "<style scoped>\n",
       "  .ansiout {\n",
       "    display: block;\n",
       "    unicode-bidi: embed;\n",
       "    white-space: pre-wrap;\n",
       "    word-wrap: break-word;\n",
       "    word-break: break-all;\n",
       "    font-family: \"Menlo\", \"Monaco\", \"Consolas\", \"Ubuntu Mono\", \"Source Code Pro\", monospace;\n",
       "    font-size: 13px;\n",
       "    color: #555;\n",
       "    margin-left: 4px;\n",
       "    line-height: 19px;\n",
       "  }\n",
       "</style>\n",
       "<div class=\"ansiout\"></div>"
      ]
     },
     "metadata": {
      "application/vnd.databricks.v1+output": {
       "addedWidgets": {},
       "arguments": {},
       "data": "<div class=\"ansiout\"></div>",
       "datasetInfos": [],
       "metadata": {},
       "removedWidgets": [],
       "type": "html"
      }
     },
     "output_type": "display_data"
    }
   ],
   "source": [
    "params = {'WITHOUT_PMS': False, 'SELECTED_HOTELS': ['56217','76630','27226','79051','79908','36063','27275'], 'ENV': 'dev', 'CACHE_MODELS': False, 'TARGET_TYPE': 'REVENUE', 'MODEL_TYPE': 'FARFIELD', 'REPOPATH': '/Workspace/Repos/yasith.udawatte@henrymwuamica.onmicrosoft.com/phg-data-mlsys'}\n",
    "# params = {} \n",
    "# params['WITHOUT_PMS'] = dbutils.jobs.taskValues.get(taskKey = \"capture_params\", key = \"WITHOUT_PMS\")\n",
    "# params['SELECTED_HOTELS'] = dbutils.jobs.taskValues.get(taskKey = \"capture_params\", key = \"SELECTED_HOTELS\")\n",
    "# params['ENV'] = dbutils.jobs.taskValues.get(taskKey = \"capture_params\", key = \"ENV\")\n",
    "# params['CACHE_MODELS'] = dbutils.jobs.taskValues.get(taskKey = \"capture_params\", key = \"CACHE_MODELS\")\n",
    "# params['TARGET_TYPE'] = dbutils.jobs.taskValues.get(taskKey = \"capture_params\", key = \"TARGET_TYPE\")\n",
    "# params['MODEL_TYPE'] = dbutils.jobs.taskValues.get(taskKey = \"capture_params\", key = \"MODEL_TYPE\")\n",
    "# params['REPOPATH'] = dbutils.jobs.taskValues.get(taskKey = \"capture_params\", key = \"REPOPATH\")\n",
    "\n",
    "params[\"FORECAST_POINTS\"] = [eval(i) for i in extract_param_values(getArgument(\"forecast_points\"))]\n",
    "params[\"CA_AWARE\"] = str_to_bool(getArgument(\"ca_aware\"))\n",
    "params[\"IS_USD_CURRENCY\"] = str_to_bool(getArgument(\"is_usd_currency\"))\n",
    "params[\"DAYS_AHEAD\"] = 7\n",
    "params[\"MAX_FORECAST_POINT\"] = max(params[\"FORECAST_POINTS\"]) \n",
    "params[\"MIN_FORECAST_POINT\"] = min(params[\"FORECAST_POINTS\"]) \n",
    "params[\"MAX_TARGET_LEAD\"] = 100\n",
    "params[\"MAX_LEAD\"] = 151\n",
    "params[\"LAG_NUMBERS\"] = [x for x in range(7, params[\"MAX_LEAD\"], params[\"DAYS_AHEAD\"])] \n",
    "params[\"MODEL_START_DATE\"] = pd.to_datetime(\"2018-10-01\")\n",
    "params[\"COVID_START_DATE\"] = pd.to_datetime(\"2020-03-01\")\n",
    "params[\"COVID_END_DATE\"] = pd.to_datetime(\"2021-08-01\")\n",
    "params[\"REVENUE_COL\"] = \"_reservationRevenuePerRoomUSD\"\n",
    "params[\"ROOMS_COL\"] = \"_rooms\""
   ]
  },
  {
   "cell_type": "code",
   "execution_count": 0,
   "metadata": {
    "application/vnd.databricks.v1+cell": {
     "cellMetadata": {
      "byteLimit": 2048000,
      "rowLimit": 10000
     },
     "inputWidgets": {},
     "nuid": "461d2a02-c52f-4f2a-b19c-fb5e585fdb62",
     "showTitle": false,
     "tableResultSettingsMap": {},
     "title": ""
    }
   },
   "outputs": [
    {
     "output_type": "display_data",
     "data": {
      "text/html": [
       "<style scoped>\n",
       "  .ansiout {\n",
       "    display: block;\n",
       "    unicode-bidi: embed;\n",
       "    white-space: pre-wrap;\n",
       "    word-wrap: break-word;\n",
       "    word-break: break-all;\n",
       "    font-family: \"Menlo\", \"Monaco\", \"Consolas\", \"Ubuntu Mono\", \"Source Code Pro\", monospace;\n",
       "    font-size: 13px;\n",
       "    color: #555;\n",
       "    margin-left: 4px;\n",
       "    line-height: 19px;\n",
       "  }\n",
       "</style>\n",
       "<div class=\"ansiout\"></div>"
      ]
     },
     "metadata": {
      "application/vnd.databricks.v1+output": {
       "addedWidgets": {},
       "arguments": {},
       "data": "<div class=\"ansiout\"></div>",
       "datasetInfos": [],
       "metadata": {},
       "removedWidgets": [],
       "type": "html"
      }
     },
     "output_type": "display_data"
    }
   ],
   "source": [
    "# if params[\"ENV\"] == \"dev\":\n",
    "#     print(f\"Loading phgml package from repo {params['REPOPATH']}\")\n",
    "#     sys.path.append(os.path.abspath(params[\"REPOPATH\"]))\n",
    "\n",
    "# sys.path.append(os.path.abspath(\"/Workspace/Repos/yasith.udawatte@henrymwuamica.onmicrosoft.com/phg-data-mlsys\"))"
   ]
  },
  {
   "cell_type": "code",
   "execution_count": 0,
   "metadata": {
    "application/vnd.databricks.v1+cell": {
     "cellMetadata": {
      "byteLimit": 2048000,
      "rowLimit": 10000
     },
     "inputWidgets": {},
     "nuid": "7e6505ac-06af-4588-8b22-f131de49558a",
     "showTitle": false,
     "tableResultSettingsMap": {},
     "title": ""
    }
   },
   "outputs": [
    {
     "output_type": "display_data",
     "data": {
      "text/html": [
       "<style scoped>\n",
       "  .ansiout {\n",
       "    display: block;\n",
       "    unicode-bidi: embed;\n",
       "    white-space: pre-wrap;\n",
       "    word-wrap: break-word;\n",
       "    word-break: break-all;\n",
       "    font-family: \"Menlo\", \"Monaco\", \"Consolas\", \"Ubuntu Mono\", \"Source Code Pro\", monospace;\n",
       "    font-size: 13px;\n",
       "    color: #555;\n",
       "    margin-left: 4px;\n",
       "    line-height: 19px;\n",
       "  }\n",
       "</style>\n",
       "<div class=\"ansiout\"></div>"
      ]
     },
     "metadata": {
      "application/vnd.databricks.v1+output": {
       "addedWidgets": {},
       "arguments": {},
       "data": "<div class=\"ansiout\"></div>",
       "datasetInfos": [],
       "metadata": {},
       "removedWidgets": [],
       "type": "html"
      }
     },
     "output_type": "display_data"
    }
   ],
   "source": [
    "from phgml.data.config import FarfieldForecastingHotelConfigProvider,FarfieldEnvironmentConfig\n",
    "from phgml.reporting.logging import get_dbx_logger\n",
    "from phgml.data.processing_distr import (\n",
    "    filter_hotels\n",
    ")\n",
    "from phgml.data.processing_distr_spark import (\n",
    "    filter_data,\n",
    "    preprocess_data,\n",
    "    calc_date_features,\n",
    "    get_lags,\n",
    "    compile_hotel_tables,    \n",
    ")"
   ]
  },
  {
   "cell_type": "code",
   "execution_count": 0,
   "metadata": {
    "application/vnd.databricks.v1+cell": {
     "cellMetadata": {
      "byteLimit": 2048000,
      "rowLimit": 10000
     },
     "inputWidgets": {},
     "nuid": "1524e5db-15c3-4fee-8db2-58f9ea89e298",
     "showTitle": false,
     "tableResultSettingsMap": {},
     "title": ""
    }
   },
   "outputs": [
    {
     "output_type": "display_data",
     "data": {
      "text/html": [
       "<style scoped>\n",
       "  .ansiout {\n",
       "    display: block;\n",
       "    unicode-bidi: embed;\n",
       "    white-space: pre-wrap;\n",
       "    word-wrap: break-word;\n",
       "    word-break: break-all;\n",
       "    font-family: \"Menlo\", \"Monaco\", \"Consolas\", \"Ubuntu Mono\", \"Source Code Pro\", monospace;\n",
       "    font-size: 13px;\n",
       "    color: #555;\n",
       "    margin-left: 4px;\n",
       "    line-height: 19px;\n",
       "  }\n",
       "</style>\n",
       "<div class=\"ansiout\"></div>"
      ]
     },
     "metadata": {
      "application/vnd.databricks.v1+output": {
       "addedWidgets": {},
       "arguments": {},
       "data": "<div class=\"ansiout\"></div>",
       "datasetInfos": [],
       "metadata": {},
       "removedWidgets": [],
       "type": "html"
      }
     },
     "output_type": "display_data"
    }
   ],
   "source": [
    "# Config data relevant to this pipeline\n",
    "env_config = FarfieldEnvironmentConfig(\n",
    "    env=params[\"ENV\"], \n",
    "    without_pms=params[\"WITHOUT_PMS\"], \n",
    "    target=params[\"TARGET_TYPE\"],\n",
    "    spark=spark,\n",
    "    is_usd_currency=params[\"IS_USD_CURRENCY\"]\n",
    ")\n",
    "forecasting_config_provider = FarfieldForecastingHotelConfigProvider(spark=spark,env=params[\"ENV\"])\n",
    "params[\"TARGET_COLUMN\"] = env_config.target_column\n",
    "\n",
    "if params[\"TARGET_TYPE\"]=='REVENUE':\n",
    "    # params['PREPROCESSED_TABLE'] = env_config.prep_train_revenue_table\n",
    "    params['PREPROCESSED_TABLE'] = f\"testing_data.pp_ff_preprocess_rv\"\n",
    "else:\n",
    "    # params['PREPROCESSED_TABLE'] = env_config.prep_train_rooms_table\n",
    "    params['PREPROCESSED_TABLE'] = f\"testing_data.pp_ff_preprocess_rm\""
   ]
  },
  {
   "cell_type": "code",
   "execution_count": 0,
   "metadata": {
    "application/vnd.databricks.v1+cell": {
     "cellMetadata": {
      "byteLimit": 2048000,
      "rowLimit": 10000
     },
     "inputWidgets": {},
     "nuid": "64c7db72-5815-4f8f-9b08-c1dac1e12ecc",
     "showTitle": false,
     "tableResultSettingsMap": {},
     "title": ""
    }
   },
   "outputs": [
    {
     "output_type": "display_data",
     "data": {
      "text/html": [
       "<style scoped>\n",
       "  .ansiout {\n",
       "    display: block;\n",
       "    unicode-bidi: embed;\n",
       "    white-space: pre-wrap;\n",
       "    word-wrap: break-word;\n",
       "    word-break: break-all;\n",
       "    font-family: \"Menlo\", \"Monaco\", \"Consolas\", \"Ubuntu Mono\", \"Source Code Pro\", monospace;\n",
       "    font-size: 13px;\n",
       "    color: #555;\n",
       "    margin-left: 4px;\n",
       "    line-height: 19px;\n",
       "  }\n",
       "</style>\n",
       "<div class=\"ansiout\"></div>"
      ]
     },
     "metadata": {
      "application/vnd.databricks.v1+output": {
       "addedWidgets": {},
       "arguments": {},
       "data": "<div class=\"ansiout\"></div>",
       "datasetInfos": [],
       "metadata": {},
       "removedWidgets": [],
       "type": "html"
      }
     },
     "output_type": "display_data"
    }
   ],
   "source": [
    "params[\"PARTITION_DATE\"] = spark.sql(\n",
    "    f\"select max(transactionTimeStamp) from {env_config.source_data_table}\"\n",
    ").collect()[0][0]\n",
    "\n",
    "logger = get_dbx_logger(pipeline=params[\"ENV\"],\n",
    "                        task_type=params[\"TARGET_TYPE\"],\n",
    "                        exclude_pms=params[\"WITHOUT_PMS\"])\n",
    "logger.setLevel(logging.INFO)"
   ]
  },
  {
   "cell_type": "code",
   "execution_count": 0,
   "metadata": {
    "application/vnd.databricks.v1+cell": {
     "cellMetadata": {
      "byteLimit": 2048000,
      "rowLimit": 10000
     },
     "inputWidgets": {},
     "nuid": "620e8b5c-6c29-444d-950d-6d74e09db69f",
     "showTitle": false,
     "tableResultSettingsMap": {},
     "title": ""
    }
   },
   "outputs": [
    {
     "output_type": "display_data",
     "data": {
      "text/html": [
       "<style scoped>\n",
       "  .ansiout {\n",
       "    display: block;\n",
       "    unicode-bidi: embed;\n",
       "    white-space: pre-wrap;\n",
       "    word-wrap: break-word;\n",
       "    word-break: break-all;\n",
       "    font-family: \"Menlo\", \"Monaco\", \"Consolas\", \"Ubuntu Mono\", \"Source Code Pro\", monospace;\n",
       "    font-size: 13px;\n",
       "    color: #555;\n",
       "    margin-left: 4px;\n",
       "    line-height: 19px;\n",
       "  }\n",
       "</style>\n",
       "<div class=\"ansiout\">24/09/13/ 04:17:50 UTC:PHGML-dev-REVENUE-PMS-INFO-Selecting hotels.\n",
       "24/09/13/ 04:17:51 UTC:PHGML-WARNING-Following unknown/unconfigured hotel ids were provided at hotel selection: 27275\n",
       "24/09/13/ 04:17:51 UTC:PHGML-WARNING-These hotel IDs will be skipped\n",
       "</div>"
      ]
     },
     "metadata": {
      "application/vnd.databricks.v1+output": {
       "addedWidgets": {},
       "arguments": {},
       "data": "<div class=\"ansiout\">24/09/13/ 04:17:50 UTC:PHGML-dev-REVENUE-PMS-INFO-Selecting hotels.\n24/09/13/ 04:17:51 UTC:PHGML-WARNING-Following unknown/unconfigured hotel ids were provided at hotel selection: 27275\n24/09/13/ 04:17:51 UTC:PHGML-WARNING-These hotel IDs will be skipped\n</div>",
       "datasetInfos": [],
       "metadata": {},
       "removedWidgets": [],
       "type": "html"
      }
     },
     "output_type": "display_data"
    }
   ],
   "source": [
    "logger.info(\"Selecting hotels.\")\n",
    "hotel_details = spark.sql(\n",
    "    \"select HotelID,HotelName,PMSStartDate from phg_data.dim_hotels_\"\n",
    ").toPandas()\n",
    "\n",
    "params[\"CORRECTED_HOTEL_IDS\"] = filter_hotels(\n",
    "    hotel_details,\n",
    "    params[\"SELECTED_HOTELS\"],\n",
    "    params[\"WITHOUT_PMS\"],\n",
    "    forecasting_config_provider,\n",
    "    mode=\"TRAINING\"\n",
    ")"
   ]
  },
  {
   "cell_type": "code",
   "execution_count": 0,
   "metadata": {
    "application/vnd.databricks.v1+cell": {
     "cellMetadata": {
      "byteLimit": 2048000,
      "rowLimit": 10000
     },
     "inputWidgets": {},
     "nuid": "111bcac7-9040-47b6-aaf6-5af56196b6e4",
     "showTitle": false,
     "tableResultSettingsMap": {},
     "title": ""
    }
   },
   "outputs": [
    {
     "output_type": "display_data",
     "data": {
      "text/html": [
       "<style scoped>\n",
       "  .ansiout {\n",
       "    display: block;\n",
       "    unicode-bidi: embed;\n",
       "    white-space: pre-wrap;\n",
       "    word-wrap: break-word;\n",
       "    word-break: break-all;\n",
       "    font-family: \"Menlo\", \"Monaco\", \"Consolas\", \"Ubuntu Mono\", \"Source Code Pro\", monospace;\n",
       "    font-size: 13px;\n",
       "    color: #555;\n",
       "    margin-left: 4px;\n",
       "    line-height: 19px;\n",
       "  }\n",
       "</style>\n",
       "<div class=\"ansiout\">24/09/13/ 04:17:51 UTC:PHGML-dev-REVENUE-PMS-INFO-Loading data\n",
       "</div>"
      ]
     },
     "metadata": {
      "application/vnd.databricks.v1+output": {
       "addedWidgets": {},
       "arguments": {},
       "data": "<div class=\"ansiout\">24/09/13/ 04:17:51 UTC:PHGML-dev-REVENUE-PMS-INFO-Loading data\n</div>",
       "datasetInfos": [],
       "metadata": {},
       "removedWidgets": [],
       "type": "html"
      }
     },
     "output_type": "display_data"
    }
   ],
   "source": [
    "logger.info(\"Loading data\")\n",
    "columns = [\n",
    "    \"HotelID\",\n",
    "    \"_StayDates\",\n",
    "    \"confirmationDate\",\n",
    "    \"departureDate\",\n",
    "    \"channel\",\n",
    "    \"status\",\n",
    "    params[\"REVENUE_COL\"],\n",
    "    params[\"ROOMS_COL\"],\n",
    "]\n",
    "\n",
    "dfsp = spark.sql(\n",
    "    f\"select {','.join(columns)} from {env_config.source_data_table} where status='Confirmed' \"\n",
    ")\n",
    "\n",
    "dfsp = dfsp.withColumn('_StayDates', F.to_date('_StayDates'))\n",
    "dfsp = dfsp.withColumn('confirmationDate', F.to_date('confirmationDate'))\n",
    "\n",
    "# Select transaction data along with the cancellation data from the raw dataset\n",
    "dfsp_ca = spark.sql(\n",
    "    f\"select a.TransactionID,a.HotelID,a._StayDates,a.confirmationDate,a.departureDate,a.channel,a.status,a.cancellationNumber,a._reservationRevenuePerRoomUSD,a._rooms,b.cancellationDate from {env_config.source_data_table} as a left join {env_config.transaction_data_table} as b on a.TransactionID=b.TransactionID\"\n",
    "    )\n",
    "\n",
    "dfsp_ca = dfsp_ca.withColumn('_StayDates', F.to_date('_StayDates'))\n",
    "dfsp_ca = dfsp_ca.withColumn('confirmationDate', F.to_date('confirmationDate'))\n",
    "\n",
    "\n",
    "if params[\"CORRECTED_HOTEL_IDS\"]:\n",
    "    dfsp = dfsp.filter(dfsp.HotelID.isin(params[\"CORRECTED_HOTEL_IDS\"]))\n",
    "    dfsp_ca = dfsp_ca.filter(dfsp_ca.HotelID.isin(params[\"CORRECTED_HOTEL_IDS\"]))\n",
    "\n",
    "params['NO_OF_HOTELS'] = len(params[\"CORRECTED_HOTEL_IDS\"])\n",
    "dfsp = dfsp.repartition(params['NO_OF_HOTELS'],\"HotelID\")\n",
    "dfsp_ca = dfsp_ca.repartition(params['NO_OF_HOTELS'],\"HotelID\")"
   ]
  },
  {
   "cell_type": "code",
   "execution_count": 0,
   "metadata": {
    "application/vnd.databricks.v1+cell": {
     "cellMetadata": {
      "byteLimit": 2048000,
      "rowLimit": 10000
     },
     "inputWidgets": {},
     "nuid": "dd0f8705-cf3e-4532-9022-5e94deac0462",
     "showTitle": false,
     "tableResultSettingsMap": {},
     "title": ""
    }
   },
   "outputs": [
    {
     "output_type": "display_data",
     "data": {
      "text/html": [
       "<style scoped>\n",
       "  .ansiout {\n",
       "    display: block;\n",
       "    unicode-bidi: embed;\n",
       "    white-space: pre-wrap;\n",
       "    word-wrap: break-word;\n",
       "    word-break: break-all;\n",
       "    font-family: \"Menlo\", \"Monaco\", \"Consolas\", \"Ubuntu Mono\", \"Source Code Pro\", monospace;\n",
       "    font-size: 13px;\n",
       "    color: #555;\n",
       "    margin-left: 4px;\n",
       "    line-height: 19px;\n",
       "  }\n",
       "</style>\n",
       "<div class=\"ansiout\">24/09/13/ 04:17:51 UTC:PHGML-dev-REVENUE-PMS-INFO-Preprocessing data\n",
       "cancel_aware : False\n",
       "/databricks/spark/python/pyspark/sql/pandas/conversion.py:340: UserWarning: createDataFrame attempted Arrow optimization because &#39;spark.sql.execution.arrow.pyspark.enabled&#39; is set to true; however, failed by the reason below:\n",
       "  Unable to convert the field day_of_week_0. If this column is not necessary, you may consider dropping it or converting to primitive type before the conversion.\n",
       "Direct cause: Unsupported type in conversion from Arrow: uint8\n",
       "Attempting non-optimization as &#39;spark.sql.execution.arrow.pyspark.fallback.enabled&#39; is set to true.\n",
       "  warnings.warn(msg)\n",
       "24/09/13/ 04:18:24 UTC:PHGML-dev-REVENUE-PMS-INFO-Stay dates filtering upto : 2024-09-08 15:57:37\n",
       "</div>"
      ]
     },
     "metadata": {
      "application/vnd.databricks.v1+output": {
       "addedWidgets": {},
       "arguments": {},
       "data": "<div class=\"ansiout\">24/09/13/ 04:17:51 UTC:PHGML-dev-REVENUE-PMS-INFO-Preprocessing data\ncancel_aware : False\n/databricks/spark/python/pyspark/sql/pandas/conversion.py:340: UserWarning: createDataFrame attempted Arrow optimization because &#39;spark.sql.execution.arrow.pyspark.enabled&#39; is set to true; however, failed by the reason below:\n  Unable to convert the field day_of_week_0. If this column is not necessary, you may consider dropping it or converting to primitive type before the conversion.\nDirect cause: Unsupported type in conversion from Arrow: uint8\nAttempting non-optimization as &#39;spark.sql.execution.arrow.pyspark.fallback.enabled&#39; is set to true.\n  warnings.warn(msg)\n24/09/13/ 04:18:24 UTC:PHGML-dev-REVENUE-PMS-INFO-Stay dates filtering upto : 2024-09-08 15:57:37\n</div>",
       "datasetInfos": [],
       "metadata": {},
       "removedWidgets": [],
       "type": "html"
      }
     },
     "output_type": "display_data"
    }
   ],
   "source": [
    "logger.info(\"Preprocessing data\")\n",
    "df = preprocess_data(\n",
    "    dfsp,\n",
    "    params[\"WITHOUT_PMS\"],\n",
    "    params[\"REVENUE_COL\"],\n",
    "    params[\"ROOMS_COL\"],\n",
    "    params[\"MODEL_START_DATE\"],\n",
    "    cancel_aware=False\n",
    ")\n",
    "\n",
    "df_ca = preprocess_data(\n",
    "    dfsp_ca,\n",
    "    params[\"WITHOUT_PMS\"],\n",
    "    params[\"REVENUE_COL\"],\n",
    "    params[\"ROOMS_COL\"],\n",
    "    params[\"MODEL_START_DATE\"],\n",
    "    cancel_aware = True\n",
    ")\n",
    "\n",
    "dates = spark.createDataFrame(calc_date_features(df).reset_index().rename(columns={\"index\":\"_StayDates\"}))\n",
    "dates = dates.withColumn('_StayDates', F.to_date('_StayDates'))\n",
    "\n",
    "df_lags = get_lags(\n",
    "    df,\n",
    "    lag_numbers=params[\"LAG_NUMBERS\"], \n",
    "    target_col=params[\"TARGET_COLUMN\"])\n",
    "\n",
    "logger.info(f\"Stay dates filtering upto : {params['PARTITION_DATE']}\")\n",
    "\n",
    "df = filter_data(\n",
    "    df=df, \n",
    "    partition_date=params[\"PARTITION_DATE\"], \n",
    "    revenue_col=params[\"REVENUE_COL\"], \n",
    "    rooms_col=params[\"ROOMS_COL\"], \n",
    "    cancel_aware=False\n",
    ")\n",
    "\n",
    "df_ca = filter_data(\n",
    "    df=df_ca, \n",
    "    partition_date=params[\"PARTITION_DATE\"], \n",
    "    revenue_col=params[\"REVENUE_COL\"], \n",
    "    rooms_col=params[\"ROOMS_COL\"], \n",
    "    cancel_aware=True\n",
    ")"
   ]
  },
  {
   "cell_type": "code",
   "execution_count": 0,
   "metadata": {
    "application/vnd.databricks.v1+cell": {
     "cellMetadata": {
      "byteLimit": 2048000,
      "rowLimit": 10000
     },
     "inputWidgets": {},
     "nuid": "9525000e-6494-4e9d-8f1e-f0e7f245815d",
     "showTitle": false,
     "tableResultSettingsMap": {},
     "title": ""
    }
   },
   "outputs": [
    {
     "output_type": "display_data",
     "data": {
      "text/html": [
       "<style scoped>\n",
       "  .ansiout {\n",
       "    display: block;\n",
       "    unicode-bidi: embed;\n",
       "    white-space: pre-wrap;\n",
       "    word-wrap: break-word;\n",
       "    word-break: break-all;\n",
       "    font-family: \"Menlo\", \"Monaco\", \"Consolas\", \"Ubuntu Mono\", \"Source Code Pro\", monospace;\n",
       "    font-size: 13px;\n",
       "    color: #555;\n",
       "    margin-left: 4px;\n",
       "    line-height: 19px;\n",
       "  }\n",
       "</style>\n",
       "<div class=\"ansiout\"></div>"
      ]
     },
     "metadata": {
      "application/vnd.databricks.v1+output": {
       "addedWidgets": {},
       "arguments": {},
       "data": "<div class=\"ansiout\"></div>",
       "datasetInfos": [],
       "metadata": {},
       "removedWidgets": [],
       "type": "html"
      }
     },
     "output_type": "display_data"
    }
   ],
   "source": [
    "output_df_targets = compile_hotel_tables(\n",
    "    df=df,\n",
    "    target_type=params[\"TARGET_TYPE\"],\n",
    "    target_column=params[\"TARGET_COLUMN\"],\n",
    "    prediction_horizon=params[\"MAX_FORECAST_POINT\"]+1,\n",
    "    lead_window=params[\"MAX_TARGET_LEAD\"],\n",
    "    selected_hotels=params[\"CORRECTED_HOTEL_IDS\"],\n",
    "    spark=spark,\n",
    "    suffix=\"_tgt\"\n",
    ")"
   ]
  },
  {
   "cell_type": "code",
   "execution_count": 0,
   "metadata": {
    "application/vnd.databricks.v1+cell": {
     "cellMetadata": {
      "byteLimit": 2048000,
      "rowLimit": 10000
     },
     "inputWidgets": {},
     "nuid": "2db5a72a-038e-49dc-b6a7-f95fca317c63",
     "showTitle": false,
     "tableResultSettingsMap": {},
     "title": ""
    }
   },
   "outputs": [
    {
     "output_type": "display_data",
     "data": {
      "text/html": [
       "<style scoped>\n",
       "  .ansiout {\n",
       "    display: block;\n",
       "    unicode-bidi: embed;\n",
       "    white-space: pre-wrap;\n",
       "    word-wrap: break-word;\n",
       "    word-break: break-all;\n",
       "    font-family: \"Menlo\", \"Monaco\", \"Consolas\", \"Ubuntu Mono\", \"Source Code Pro\", monospace;\n",
       "    font-size: 13px;\n",
       "    color: #555;\n",
       "    margin-left: 4px;\n",
       "    line-height: 19px;\n",
       "  }\n",
       "</style>\n",
       "<div class=\"ansiout\"></div>"
      ]
     },
     "metadata": {
      "application/vnd.databricks.v1+output": {
       "addedWidgets": {},
       "arguments": {},
       "data": "<div class=\"ansiout\"></div>",
       "datasetInfos": [],
       "metadata": {},
       "removedWidgets": [],
       "type": "html"
      }
     },
     "output_type": "display_data"
    }
   ],
   "source": [
    "output_df_ca = compile_hotel_tables(\n",
    "    df=df_ca, \n",
    "    target_type=params[\"TARGET_TYPE\"],\n",
    "    target_column=params[\"TARGET_COLUMN\"],\n",
    "    prediction_horizon=params[\"MAX_FORECAST_POINT\"]+1,\n",
    "    lead_window=params[\"MAX_LEAD\"]+1,\n",
    "    selected_hotels=params[\"CORRECTED_HOTEL_IDS\"],\n",
    "    spark=spark,\n",
    "    dates=dates,\n",
    "    df_lags=df_lags,\n",
    "    cancel_aware=True \n",
    ")"
   ]
  },
  {
   "cell_type": "code",
   "execution_count": 0,
   "metadata": {
    "application/vnd.databricks.v1+cell": {
     "cellMetadata": {
      "byteLimit": 2048000,
      "rowLimit": 10000
     },
     "inputWidgets": {},
     "nuid": "431e8bbe-ad3f-4855-9f27-074fe60d0a32",
     "showTitle": false,
     "tableResultSettingsMap": {},
     "title": ""
    }
   },
   "outputs": [
    {
     "output_type": "display_data",
     "data": {
      "text/html": [
       "<style scoped>\n",
       "  .ansiout {\n",
       "    display: block;\n",
       "    unicode-bidi: embed;\n",
       "    white-space: pre-wrap;\n",
       "    word-wrap: break-word;\n",
       "    word-break: break-all;\n",
       "    font-family: \"Menlo\", \"Monaco\", \"Consolas\", \"Ubuntu Mono\", \"Source Code Pro\", monospace;\n",
       "    font-size: 13px;\n",
       "    color: #555;\n",
       "    margin-left: 4px;\n",
       "    line-height: 19px;\n",
       "  }\n",
       "</style>\n",
       "<div class=\"ansiout\"></div>"
      ]
     },
     "metadata": {
      "application/vnd.databricks.v1+output": {
       "addedWidgets": {},
       "arguments": {},
       "data": "<div class=\"ansiout\"></div>",
       "datasetInfos": [],
       "metadata": {},
       "removedWidgets": [],
       "type": "html"
      }
     },
     "output_type": "display_data"
    }
   ],
   "source": [
    "group_cols = [\"HotelID\", \"_StayDates\"]\n",
    "if params[\"CA_AWARE\"]:\n",
    "    group_cols = [\"forecast_index\", \"HotelID\", \"_StayDates\"]\n",
    "output_df = output_df_targets.join(output_df_ca, on=['HotelID','_StayDates'], how='inner').orderBy(group_cols) "
   ]
  },
  {
   "cell_type": "code",
   "execution_count": 0,
   "metadata": {
    "application/vnd.databricks.v1+cell": {
     "cellMetadata": {
      "byteLimit": 2048000,
      "rowLimit": 10000
     },
     "inputWidgets": {},
     "nuid": "65b9bcf8-3f64-4655-8a76-babca1986d71",
     "showTitle": false,
     "tableResultSettingsMap": {},
     "title": ""
    }
   },
   "outputs": [
    {
     "output_type": "display_data",
     "data": {
      "text/html": [
       "<style scoped>\n",
       "  .ansiout {\n",
       "    display: block;\n",
       "    unicode-bidi: embed;\n",
       "    white-space: pre-wrap;\n",
       "    word-wrap: break-word;\n",
       "    word-break: break-all;\n",
       "    font-family: \"Menlo\", \"Monaco\", \"Consolas\", \"Ubuntu Mono\", \"Source Code Pro\", monospace;\n",
       "    font-size: 13px;\n",
       "    color: #555;\n",
       "    margin-left: 4px;\n",
       "    line-height: 19px;\n",
       "  }\n",
       "</style>\n",
       "<div class=\"ansiout\">24/09/13/ 04:18:30 UTC:PHGML-dev-REVENUE-PMS-INFO-Writing preprocessed data to table testing_data.pp_ff_preprocess_rv\n",
       "</div>"
      ]
     },
     "metadata": {
      "application/vnd.databricks.v1+output": {
       "addedWidgets": {},
       "arguments": {},
       "data": "<div class=\"ansiout\">24/09/13/ 04:18:30 UTC:PHGML-dev-REVENUE-PMS-INFO-Writing preprocessed data to table testing_data.pp_ff_preprocess_rv\n</div>",
       "datasetInfos": [],
       "metadata": {},
       "removedWidgets": [],
       "type": "html"
      }
     },
     "output_type": "display_data"
    }
   ],
   "source": [
    "file_format = \"delta\"\n",
    "\n",
    "logger.info(f\"Writing preprocessed data to table {params['PREPROCESSED_TABLE']}\")\n",
    "(\n",
    "    output_df.write.format(\"delta\")\n",
    "    .mode(\"append\") # append, overwrite\n",
    "    .partitionBy(\"HotelID\")\n",
    "    .option(\"overwriteSchema\", \"true\")\n",
    "    .saveAsTable(params['PREPROCESSED_TABLE'])\n",
    ")"
   ]
  },
  {
   "cell_type": "code",
   "execution_count": 0,
   "metadata": {
    "application/vnd.databricks.v1+cell": {
     "cellMetadata": {
      "byteLimit": 2048000,
      "rowLimit": 10000
     },
     "inputWidgets": {},
     "nuid": "15d01f2b-6d7b-46fb-812d-0e70caaf5825",
     "showTitle": false,
     "tableResultSettingsMap": {},
     "title": ""
    }
   },
   "outputs": [
    {
     "output_type": "display_data",
     "data": {
      "text/html": [
       "<style scoped>\n",
       "  .ansiout {\n",
       "    display: block;\n",
       "    unicode-bidi: embed;\n",
       "    white-space: pre-wrap;\n",
       "    word-wrap: break-word;\n",
       "    word-break: break-all;\n",
       "    font-family: \"Menlo\", \"Monaco\", \"Consolas\", \"Ubuntu Mono\", \"Source Code Pro\", monospace;\n",
       "    font-size: 13px;\n",
       "    color: #555;\n",
       "    margin-left: 4px;\n",
       "    line-height: 19px;\n",
       "  }\n",
       "</style>\n",
       "<div class=\"ansiout\">{&#39;WITHOUT_PMS&#39;: False, &#39;SELECTED_HOTELS&#39;: [&#39;56217&#39;, &#39;76630&#39;, &#39;27226&#39;, &#39;79051&#39;, &#39;79908&#39;, &#39;36063&#39;, &#39;27275&#39;], &#39;ENV&#39;: &#39;dev&#39;, &#39;CACHE_MODELS&#39;: False, &#39;TARGET_TYPE&#39;: &#39;REVENUE&#39;, &#39;MODEL_TYPE&#39;: &#39;FARFIELD&#39;, &#39;REPOPATH&#39;: &#39;/Workspace/Repos/yasith.udawatte@henrymwuamica.onmicrosoft.com/phg-data-mlsys&#39;, &#39;FORECAST_POINTS&#39;: [91, 84, 77, 70, 63, 56, 49, 42, 35], &#39;CA_AWARE&#39;: True, &#39;IS_USD_CURRENCY&#39;: True, &#39;DAYS_AHEAD&#39;: 7, &#39;MAX_FORECAST_POINT&#39;: 91, &#39;MIN_FORECAST_POINT&#39;: 35, &#39;MAX_TARGET_LEAD&#39;: 100, &#39;MAX_LEAD&#39;: 151, &#39;LAG_NUMBERS&#39;: [7, 14, 21, 28, 35, 42, 49, 56, 63, 70, 77, 84, 91, 98, 105, 112, 119, 126, 133, 140, 147], &#39;MODEL_START_DATE&#39;: Timestamp(&#39;2018-10-01 00:00:00&#39;), &#39;COVID_START_DATE&#39;: Timestamp(&#39;2020-03-01 00:00:00&#39;), &#39;COVID_END_DATE&#39;: Timestamp(&#39;2021-08-01 00:00:00&#39;), &#39;REVENUE_COL&#39;: &#39;_reservationRevenuePerRoomUSD&#39;, &#39;ROOMS_COL&#39;: &#39;_rooms&#39;, &#39;TARGET_COLUMN&#39;: &#39;_reservationRevenuePerRoomUSD&#39;, &#39;PREPROCESSED_TABLE&#39;: &#39;testing_data.pp_ff_preprocess_rv&#39;, &#39;PARTITION_DATE&#39;: datetime.datetime(2024, 9, 8, 15, 57, 37), &#39;CORRECTED_HOTEL_IDS&#39;: [&#39;56217&#39;, &#39;76630&#39;, &#39;27226&#39;, &#39;79051&#39;, &#39;79908&#39;, &#39;36063&#39;], &#39;NO_OF_HOTELS&#39;: 6}\n",
       "</div>"
      ]
     },
     "metadata": {
      "application/vnd.databricks.v1+output": {
       "addedWidgets": {},
       "arguments": {},
       "data": "<div class=\"ansiout\">{&#39;WITHOUT_PMS&#39;: False, &#39;SELECTED_HOTELS&#39;: [&#39;56217&#39;, &#39;76630&#39;, &#39;27226&#39;, &#39;79051&#39;, &#39;79908&#39;, &#39;36063&#39;, &#39;27275&#39;], &#39;ENV&#39;: &#39;dev&#39;, &#39;CACHE_MODELS&#39;: False, &#39;TARGET_TYPE&#39;: &#39;REVENUE&#39;, &#39;MODEL_TYPE&#39;: &#39;FARFIELD&#39;, &#39;REPOPATH&#39;: &#39;/Workspace/Repos/yasith.udawatte@henrymwuamica.onmicrosoft.com/phg-data-mlsys&#39;, &#39;FORECAST_POINTS&#39;: [91, 84, 77, 70, 63, 56, 49, 42, 35], &#39;CA_AWARE&#39;: True, &#39;IS_USD_CURRENCY&#39;: True, &#39;DAYS_AHEAD&#39;: 7, &#39;MAX_FORECAST_POINT&#39;: 91, &#39;MIN_FORECAST_POINT&#39;: 35, &#39;MAX_TARGET_LEAD&#39;: 100, &#39;MAX_LEAD&#39;: 151, &#39;LAG_NUMBERS&#39;: [7, 14, 21, 28, 35, 42, 49, 56, 63, 70, 77, 84, 91, 98, 105, 112, 119, 126, 133, 140, 147], &#39;MODEL_START_DATE&#39;: Timestamp(&#39;2018-10-01 00:00:00&#39;), &#39;COVID_START_DATE&#39;: Timestamp(&#39;2020-03-01 00:00:00&#39;), &#39;COVID_END_DATE&#39;: Timestamp(&#39;2021-08-01 00:00:00&#39;), &#39;REVENUE_COL&#39;: &#39;_reservationRevenuePerRoomUSD&#39;, &#39;ROOMS_COL&#39;: &#39;_rooms&#39;, &#39;TARGET_COLUMN&#39;: &#39;_reservationRevenuePerRoomUSD&#39;, &#39;PREPROCESSED_TABLE&#39;: &#39;testing_data.pp_ff_preprocess_rv&#39;, &#39;PARTITION_DATE&#39;: datetime.datetime(2024, 9, 8, 15, 57, 37), &#39;CORRECTED_HOTEL_IDS&#39;: [&#39;56217&#39;, &#39;76630&#39;, &#39;27226&#39;, &#39;79051&#39;, &#39;79908&#39;, &#39;36063&#39;], &#39;NO_OF_HOTELS&#39;: 6}\n</div>",
       "datasetInfos": [],
       "metadata": {},
       "removedWidgets": [],
       "type": "html"
      }
     },
     "output_type": "display_data"
    }
   ],
   "source": [
    "print(params)"
   ]
  },
  {
   "cell_type": "code",
   "execution_count": 0,
   "metadata": {
    "application/vnd.databricks.v1+cell": {
     "cellMetadata": {
      "byteLimit": 2048000,
      "rowLimit": 10000
     },
     "inputWidgets": {},
     "nuid": "dbccd216-53a6-4e3c-917c-f442ed74c199",
     "showTitle": false,
     "tableResultSettingsMap": {},
     "title": ""
    }
   },
   "outputs": [
    {
     "output_type": "display_data",
     "data": {
      "text/html": [
       "<style scoped>\n",
       "  .ansiout {\n",
       "    display: block;\n",
       "    unicode-bidi: embed;\n",
       "    white-space: pre-wrap;\n",
       "    word-wrap: break-word;\n",
       "    word-break: break-all;\n",
       "    font-family: \"Menlo\", \"Monaco\", \"Consolas\", \"Ubuntu Mono\", \"Source Code Pro\", monospace;\n",
       "    font-size: 13px;\n",
       "    color: #555;\n",
       "    margin-left: 4px;\n",
       "    line-height: 19px;\n",
       "  }\n",
       "</style>\n",
       "<div class=\"ansiout\"></div>"
      ]
     },
     "metadata": {
      "application/vnd.databricks.v1+output": {
       "addedWidgets": {},
       "arguments": {},
       "data": "<div class=\"ansiout\"></div>",
       "datasetInfos": [],
       "metadata": {},
       "removedWidgets": [],
       "type": "html"
      }
     },
     "output_type": "display_data"
    }
   ],
   "source": [
    "dbutils.jobs.taskValues.set(key= 'FORECAST_POINTS', value = params['FORECAST_POINTS'])\n",
    "dbutils.jobs.taskValues.set(key= 'CA_AWARE', value = params['CA_AWARE'])\n",
    "dbutils.jobs.taskValues.set(key= 'IS_USD_CURRENCY', value = params['IS_USD_CURRENCY'])\n",
    "dbutils.jobs.taskValues.set(key= 'DAYS_AHEAD', value = params['DAYS_AHEAD'])\n",
    "dbutils.jobs.taskValues.set(key= 'MAX_FORECAST_POINT', value = params['MAX_FORECAST_POINT'])\n",
    "dbutils.jobs.taskValues.set(key= 'MIN_FORECAST_POINT', value = params['MIN_FORECAST_POINT'])\n",
    "dbutils.jobs.taskValues.set(key= 'MAX_TARGET_LEAD', value = params['MAX_TARGET_LEAD'])\n",
    "dbutils.jobs.taskValues.set(key= 'MAX_LEAD', value = params['MAX_LEAD'])\n",
    "dbutils.jobs.taskValues.set(key= 'LAG_NUMBERS', value = params['LAG_NUMBERS'])\n",
    "dbutils.jobs.taskValues.set(key= 'MODEL_START_DATE', value = str(params['MODEL_START_DATE']))\n",
    "dbutils.jobs.taskValues.set(key= 'COVID_START_DATE', value = str(params['COVID_START_DATE']))\n",
    "dbutils.jobs.taskValues.set(key= 'COVID_END_DATE', value = str(params['COVID_END_DATE']))\n",
    "dbutils.jobs.taskValues.set(key= 'REVENUE_COL', value = params['REVENUE_COL'])\n",
    "dbutils.jobs.taskValues.set(key= 'ROOMS_COL', value = params['ROOMS_COL'])\n",
    "dbutils.jobs.taskValues.set(key= 'TARGET_COLUMN', value = params['TARGET_COLUMN'])\n",
    "dbutils.jobs.taskValues.set(key= 'PREPROCESSED_TABLE', value = params['PREPROCESSED_TABLE'])\n",
    "dbutils.jobs.taskValues.set(key= 'PARTITION_DATE', value = str(params['PARTITION_DATE']))\n",
    "dbutils.jobs.taskValues.set(key= 'CORRECTED_HOTEL_IDS', value = params['CORRECTED_HOTEL_IDS'])\n"
   ]
  }
 ],
 "metadata": {
  "application/vnd.databricks.v1+notebook": {
   "computePreferences": null,
   "dashboards": [],
   "environmentMetadata": null,
   "language": "python",
   "notebookMetadata": {
    "pythonIndentUnit": 4
   },
   "notebookName": "pp_ff_preprocess",
   "widgets": {
    "ca_aware": {
     "currentValue": "True",
     "nuid": "820d307c-1d28-4028-9723-89f44e36b77d",
     "typedWidgetInfo": {
      "autoCreated": false,
      "defaultValue": "True",
      "label": "Cancellation Aware",
      "name": "ca_aware",
      "options": {
       "widgetDisplayType": "Dropdown",
       "choices": [
        "True",
        "False"
       ],
       "fixedDomain": true,
       "multiselect": false
      },
      "parameterDataType": "String"
     },
     "widgetInfo": {
      "widgetType": "dropdown",
      "defaultValue": "True",
      "label": "Cancellation Aware",
      "name": "ca_aware",
      "options": {
       "widgetType": "dropdown",
       "autoCreated": null,
       "choices": [
        "True",
        "False"
       ]
      }
     }
    },
    "forecast_points": {
     "currentValue": "91,84,77,70,63,56,49,42,35",
     "nuid": "fd9ae1a6-cb06-422f-8b87-b3b4874b61d0",
     "typedWidgetInfo": {
      "autoCreated": false,
      "defaultValue": "91,84,77,70,63,56,49,42,35",
      "label": "Forecast points",
      "name": "forecast_points",
      "options": {
       "widgetDisplayType": "Text",
       "validationRegex": null
      },
      "parameterDataType": "String"
     },
     "widgetInfo": {
      "widgetType": "text",
      "defaultValue": "91,84,77,70,63,56,49,42,35",
      "label": "Forecast points",
      "name": "forecast_points",
      "options": {
       "widgetType": "text",
       "autoCreated": null,
       "validationRegex": null
      }
     }
    },
    "is_usd_currency": {
     "currentValue": "True",
     "nuid": "0d9c1bd9-f147-4f72-b137-83504384e0f4",
     "typedWidgetInfo": {
      "autoCreated": false,
      "defaultValue": "True",
      "label": "Use USD currency",
      "name": "is_usd_currency",
      "options": {
       "widgetDisplayType": "Dropdown",
       "choices": [
        "True",
        "False"
       ],
       "fixedDomain": true,
       "multiselect": false
      },
      "parameterDataType": "String"
     },
     "widgetInfo": {
      "widgetType": "dropdown",
      "defaultValue": "True",
      "label": "Use USD currency",
      "name": "is_usd_currency",
      "options": {
       "widgetType": "dropdown",
       "autoCreated": null,
       "choices": [
        "True",
        "False"
       ]
      }
     }
    }
   }
  },
  "language_info": {
   "name": "python"
  }
 },
 "nbformat": 4,
 "nbformat_minor": 0
}