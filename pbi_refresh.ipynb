{
 "cells": [
  {
   "cell_type": "code",
   "execution_count": 0,
   "metadata": {
    "application/vnd.databricks.v1+cell": {
     "cellMetadata": {},
     "inputWidgets": {},
     "nuid": "a8648f09-40ab-4f50-bcef-d714c9cdee10",
     "showTitle": false,
     "tableResultSettingsMap": {},
     "title": ""
    }
   },
   "outputs": [],
   "source": [
    "dbutils.widgets.dropdown(\"environment\", \"dev\", \n",
    "                         [\"dev\", \"prod\"], \"Environment\")"
   ]
  },
  {
   "cell_type": "code",
   "execution_count": 0,
   "metadata": {
    "application/vnd.databricks.v1+cell": {
     "cellMetadata": {},
     "inputWidgets": {},
     "nuid": "11e44aa2-1b3d-4c69-be7e-cd6cb486bd01",
     "showTitle": false,
     "tableResultSettingsMap": {},
     "title": ""
    }
   },
   "outputs": [],
   "source": [
    "env = dbutils.widgets.get(\"environment\")"
   ]
  },
  {
   "cell_type": "code",
   "execution_count": 0,
   "metadata": {
    "application/vnd.databricks.v1+cell": {
     "cellMetadata": {},
     "inputWidgets": {},
     "nuid": "5205eac4-51f4-4bb7-810d-93f6c3441dd9",
     "showTitle": false,
     "tableResultSettingsMap": {},
     "title": ""
    }
   },
   "outputs": [],
   "source": [
    "!pip install msal "
   ]
  },
  {
   "cell_type": "code",
   "execution_count": 0,
   "metadata": {
    "application/vnd.databricks.v1+cell": {
     "cellMetadata": {},
     "inputWidgets": {},
     "nuid": "f5870b3d-2e76-4d50-9136-d05a1867ae4d",
     "showTitle": false,
     "tableResultSettingsMap": {},
     "title": ""
    }
   },
   "outputs": [],
   "source": [
    "import msal\n",
    "import requests\n",
    "import json\n",
    "import time"
   ]
  },
  {
   "cell_type": "code",
   "execution_count": 0,
   "metadata": {
    "application/vnd.databricks.v1+cell": {
     "cellMetadata": {},
     "inputWidgets": {},
     "nuid": "94ea7d6b-8de6-440f-b374-e2c501693d2b",
     "showTitle": false,
     "tableResultSettingsMap": {},
     "title": ""
    }
   },
   "outputs": [],
   "source": [
    "def get_token_interactive(scope):\n",
    "    \"\"\"\n",
    "    Get token via interative authentication without persisting credentials. Can be used when MFA is configured in the account.\n",
    "    \"\"\"\n",
    "    app = msal.PublicClientApplication(client_id, authority=authority_url)\n",
    "    result = app.acquire_token_interactive(scope)\n",
    "    if 'access_token' in result:\n",
    "        return(result['access_token'])\n",
    "    else:\n",
    "        print('Error in get_token_interactive:',result.get(\"error\"), result.get(\"error_description\"))\n",
    "\n",
    "\n",
    "\n",
    "def get_token_username_password(scope):\n",
    "    \"\"\"\n",
    "    Get token with username and password without interaction.\n",
    "    \"\"\"\n",
    "    app = msal.PublicClientApplication(client_id, authority=authority_url)\n",
    "    result = app.acquire_token_by_username_password(username=username,password=password,scopes=scope)\n",
    "    if 'access_token' in result:\n",
    "        return(result['access_token'])\n",
    "    else:\n",
    "        print('Error in get_token_username_password:',result.get(\"error\"), result.get(\"error_description\"))\n",
    "\n",
    "\n",
    "def get_token_for_client(scope,client_id,authority_url,client_secret):\n",
    "    \"\"\"\n",
    "    Get token for authenticating via client/client secret\n",
    "    Input: \n",
    "        scope: power bi scope for calling APIs followed by the word ./default (usually, \"https://analysis.windows.net/powerbi/api./default\")\n",
    "        client_id: Application ID of the service principal used to call the API\n",
    "        authority_url: \"https://login.microsoftonline.com/common/<domain>\"\n",
    "        client_secret: secret value created under the Service principal used for authentication\n",
    "    Return: \n",
    "        Authorization token\n",
    "    \"\"\"\n",
    "    app = msal.ConfidentialClientApplication(client_id,authority=authority_url,client_credential=client_secret)\n",
    "    result = app.acquire_token_for_client(scopes=scope)\n",
    "    if 'access_token' in result:\n",
    "        return(result['access_token'])\n",
    "    else:\n",
    "        print(result)\n",
    "        print('Error in get_token_for_client:',result.get(\"error\"), result.get(\"error_description\"))\n"
   ]
  },
  {
   "cell_type": "code",
   "execution_count": 0,
   "metadata": {
    "application/vnd.databricks.v1+cell": {
     "cellMetadata": {},
     "inputWidgets": {},
     "nuid": "8bbe622b-2741-49ea-bc8d-855e0de25c67",
     "showTitle": false,
     "tableResultSettingsMap": {},
     "title": ""
    }
   },
   "outputs": [],
   "source": [
    " def get_dataset():\n",
    "    response = requests.get(f'https://api.powerbi.com/v1.0/myorg/groups/{workspaceID}/datasets',\n",
    "                       headers={\n",
    "                           'Authorization': f'Bearer {access_token}',\n",
    "                           'Content-type': 'application/json'}\n",
    "                      )\n",
    "    \n",
    "    print(response)\n",
    "\n",
    "    return [dataset for dataset in response.json()['value']] if response else None"
   ]
  },
  {
   "cell_type": "code",
   "execution_count": 0,
   "metadata": {
    "application/vnd.databricks.v1+cell": {
     "cellMetadata": {},
     "inputWidgets": {},
     "nuid": "9fc2ffa7-c665-41ce-ab4f-bc898a42702d",
     "showTitle": false,
     "tableResultSettingsMap": {},
     "title": ""
    }
   },
   "outputs": [],
   "source": [
    "databricks_secret_scope = f\"phg-data-{env}-dbsp-dbxbackend\"\n",
    "client_key = f\"phg-data-{env}-scrt-pbiclientid\"\n",
    "secret_key = f\"phg-data-{env}-scrt-pbisecret\"\n",
    "\n",
    "# Azure service principal Application (client) ID \n",
    "client_id = dbutils.secrets.get(scope = databricks_secret_scope, key = client_key) \n",
    "\n",
    "# Azure service principal client secret\n",
    "client_secret = dbutils.secrets.get(scope = databricks_secret_scope, key = secret_key)\n"
   ]
  },
  {
   "cell_type": "code",
   "execution_count": 0,
   "metadata": {
    "application/vnd.databricks.v1+cell": {
     "cellMetadata": {},
     "inputWidgets": {},
     "nuid": "af3d05d2-2f11-422b-8c37-713364b4f3c3",
     "showTitle": false,
     "tableResultSettingsMap": {},
     "title": ""
    }
   },
   "outputs": [],
   "source": [
    "#Power BI datasets on Amica Analytics - Development workspace\n",
    "authority_url = 'https://login.microsoftonline.com/henrymwuamica.onmicrosoft.com'\n",
    "scope =['https://analysis.windows.net/powerbi/api/.default']\n",
    "\n",
    "datasets = {\"PHG Report Pace Visual\":\"63982fb6-162f-492b-8394-155c6ac7e473\",\n",
    "            \"PHG Report Embed\": \"ae5a5b3f-b549-4624-ada9-e7bea3d1fcef\"}\n",
    "\n",
    "access_token = get_token_for_client(scope,client_id=client_id,authority_url=authority_url,client_secret=client_secret)\n",
    "\n",
    "workspaceID = \"21a8d045-5b71-4fd8-886b-8251515eb32b\"\n",
    "dataflow_url = 'https://api.powerbi.com/v1.0/myorg/groups/' + workspaceID + '/dataflows'\n",
    "header = {'Authorization': f'Bearer {access_token}','Content-Type':'application/json'}\n",
    "\n",
    "\n",
    "for name,dataset in datasets.items():\n",
    "\n",
    "    refresh_url = f'https://api.powerbi.com/v1.0/myorg/groups/{workspaceID}/datasets/{dataset}/refreshes'\n",
    "    print(refresh_url)\n",
    "    response = requests.post(refresh_url,\n",
    "                         headers={\n",
    "                             'Authorization': f'Bearer {access_token}',\n",
    "                             'Content-type': 'application/json'\n",
    "                         }\n",
    "                        )\n",
    "    if response.ok:\n",
    "        print(f\"Successfully ran the refresh task for {name} : {dataset}\")\n",
    "        \n",
    "    else:\n",
    "        print(f\"Encountered an issue in the refresh task\")\n",
    "        print(f\"Status: {response.reason}\")\n",
    "        print(f\"{response.json()}\")\n",
    "    \n",
    "    time.sleep(5*60)"
   ]
  },
  {
   "cell_type": "code",
   "execution_count": 0,
   "metadata": {
    "application/vnd.databricks.v1+cell": {
     "cellMetadata": {},
     "inputWidgets": {},
     "nuid": "1f4061f3-966b-4b09-bc7f-df8ca9d2bc18",
     "showTitle": false,
     "tableResultSettingsMap": {},
     "title": ""
    }
   },
   "outputs": [],
   "source": [
    "#Power BI datasets on Amica Analytics - QA workspace\n",
    "\n",
    "authority_url = 'https://login.microsoftonline.com/henrymwuamica.onmicrosoft.com'\n",
    "scope =['https://analysis.windows.net/powerbi/api/.default']\n",
    "\n",
    "databricks_secret_scope = f\"phg-data-{env}-dbsp-dbxbackend\"\n",
    "client_key = f\"phg-data-{env}-scrt-qapbiclientid\"\n",
    "secret_key = f\"phg-data-{env}-scrt-qapbisecret\"\n",
    "\n",
    "# Azure service principal Application (client) ID \n",
    "client_id = dbutils.secrets.get(scope = databricks_secret_scope, key = client_key) \n",
    "\n",
    "# Azure service principal client secret\n",
    "client_secret = dbutils.secrets.get(scope = databricks_secret_scope, key = secret_key)\n",
    "\n",
    "access_token = get_token_for_client(scope,client_id=client_id,authority_url=authority_url,client_secret=client_secret)\n",
    "\n",
    "datasets = {\"PHG Report Pace Visual\":\"11de615e-1f93-415d-a62b-2b3f2692fd66\",\n",
    "            \"PHG Report Embed\": \"82b51de4-024f-4336-83ea-8a8a4816c100\"}\n",
    "\n",
    "workspaceID = \"a330008a-afe4-433f-9599-e7f513275f17\"\n",
    "dataflow_url = 'https://api.powerbi.com/v1.0/myorg/groups/' + workspaceID + '/dataflows'\n",
    "header = {'Authorization': f'Bearer {access_token}','Content-Type':'application/json'}\n",
    "\n",
    "\n",
    "for name,dataset in datasets.items():\n",
    "\n",
    "    refresh_url = f'https://api.powerbi.com/v1.0/myorg/groups/{workspaceID}/datasets/{dataset}/refreshes'\n",
    "    print(refresh_url)\n",
    "    response = requests.post(refresh_url,\n",
    "                         headers={\n",
    "                             'Authorization': f'Bearer {access_token}',\n",
    "                             'Content-type': 'application/json'\n",
    "                         }\n",
    "                        )\n",
    "    if response.ok:\n",
    "        print(f\"Successfully ran the refresh task for {name} : {dataset}\")\n",
    "        \n",
    "    else:\n",
    "        print(f\"Encountered an issue in the refresh task\")\n",
    "        print(f\"Status: {response.reason}\")\n",
    "        print(f\"{response.json()}\")\n",
    "    \n",
    "    time.sleep(5*60)"
   ]
  },
  {
   "cell_type": "code",
   "execution_count": 0,
   "metadata": {
    "application/vnd.databricks.v1+cell": {
     "cellMetadata": {},
     "inputWidgets": {},
     "nuid": "4f977d38-b801-44b8-87aa-d5286e0709ed",
     "showTitle": false,
     "tableResultSettingsMap": {},
     "title": ""
    }
   },
   "outputs": [],
   "source": [
    "#Power BI datasets on Amica Analytics workspace\n",
    "\n",
    "authority_url = 'https://login.microsoftonline.com/henrymwuamica.onmicrosoft.com'\n",
    "scope =['https://analysis.windows.net/powerbi/api/.default']\n",
    "\n",
    "databricks_secret_scope = f\"phg-data-{env}-dbsp-dbxbackend\"\n",
    "client_key = f\"phg-data-{env}-scrt-pbiclientid\"\n",
    "secret_key = f\"phg-data-{env}-scrt-pbisecret\"\n",
    "\n",
    "# Azure service principal Application (client) ID \n",
    "client_id = dbutils.secrets.get(scope = databricks_secret_scope, key = client_key) \n",
    "\n",
    "# Azure service principal client secret\n",
    "client_secret = dbutils.secrets.get(scope = databricks_secret_scope, key = secret_key)\n",
    "\n",
    "access_token = get_token_for_client(scope,client_id=client_id,authority_url=authority_url,client_secret=client_secret)\n",
    "\n",
    "datasets = {\"PHG Report Pace Visual\":\"dd6abe6f-d9e3-4d6d-a77f-17b3fb3c27bb\",\n",
    "            \"PHG Report Embed\": \"e3057552-0411-4ec7-8352-ea77834a22a7\"}\n",
    "\n",
    "workspaceID = \"d5b0f556-eaf8-4f47-86d2-860e88a869d6\"\n",
    "dataflow_url = 'https://api.powerbi.com/v1.0/myorg/groups/' + workspaceID + '/dataflows'\n",
    "header = {'Authorization': f'Bearer {access_token}','Content-Type':'application/json'}\n",
    "\n",
    "\n",
    "for name,dataset in datasets.items():\n",
    "\n",
    "    refresh_url = f'https://api.powerbi.com/v1.0/myorg/groups/{workspaceID}/datasets/{dataset}/refreshes'\n",
    "    print(refresh_url)\n",
    "    response = requests.post(refresh_url,\n",
    "                         headers={\n",
    "                             'Authorization': f'Bearer {access_token}',\n",
    "                             'Content-type': 'application/json'\n",
    "                         }\n",
    "                        )\n",
    "    if response.ok:\n",
    "        print(f\"Successfully ran the refresh task for {name} : {dataset}\")\n",
    "        \n",
    "    else:\n",
    "        print(f\"Encountered an issue in the refresh task\")\n",
    "        print(f\"Status: {response.reason}\")\n",
    "        print(f\"{response.json()}\")\n",
    "    \n",
    "    time.sleep(5*60)"
   ]
  },
  {
   "cell_type": "code",
   "execution_count": 0,
   "metadata": {
    "application/vnd.databricks.v1+cell": {
     "cellMetadata": {},
     "inputWidgets": {},
     "nuid": "de57736a-3da7-46ff-97fa-b5a468da0203",
     "showTitle": false,
     "tableResultSettingsMap": {},
     "title": ""
    }
   },
   "outputs": [],
   "source": []
  }
 ],
 "metadata": {
  "application/vnd.databricks.v1+notebook": {
   "computePreferences": null,
   "dashboards": [],
   "environmentMetadata": null,
   "language": "python",
   "notebookMetadata": {},
   "notebookName": "pbi_refresh",
   "widgets": {}
  },
  "language_info": {
   "name": "python"
  }
 },
 "nbformat": 4,
 "nbformat_minor": 0
}