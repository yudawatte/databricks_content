{
 "cells": [
  {
   "cell_type": "code",
   "execution_count": 0,
   "metadata": {
    "application/vnd.databricks.v1+cell": {
     "cellMetadata": {},
     "inputWidgets": {},
     "nuid": "07a0ff2c-095b-4e9c-a337-0c60460ac92e",
     "showTitle": false,
     "tableResultSettingsMap": {},
     "title": ""
    }
   },
   "outputs": [],
   "source": [
    "# install necessary modules\n",
    "%pip install databricks.sdk"
   ]
  },
  {
   "cell_type": "code",
   "execution_count": 0,
   "metadata": {
    "application/vnd.databricks.v1+cell": {
     "cellMetadata": {},
     "inputWidgets": {},
     "nuid": "1578142e-e9f0-40be-9460-346cd3001fe4",
     "showTitle": false,
     "tableResultSettingsMap": {},
     "title": ""
    }
   },
   "outputs": [],
   "source": [
    "# Import necessary modules\n",
    "from datetime import datetime, timedelta\n",
    "from pyspark.sql.functions import col\n",
    "from databricks.sdk import WorkspaceClient"
   ]
  },
  {
   "cell_type": "code",
   "execution_count": 0,
   "metadata": {
    "application/vnd.databricks.v1+cell": {
     "cellMetadata": {},
     "inputWidgets": {},
     "nuid": "88032b5d-6782-4d73-8a0b-7ab48cde93da",
     "showTitle": false,
     "tableResultSettingsMap": {},
     "title": ""
    }
   },
   "outputs": [],
   "source": [
    "def get_human_readable_time(time):\n",
    "    \"\"\"\n",
    "    Converts a timestamp in milliseconds to a human-readable date and time format.\n",
    "    Args:\n",
    "        time (int): A timestamp in milliseconds.\n",
    "    Returns:\n",
    "        str: A string representing the human-readable date and time in the format 'YYYY-MM-DD HH:MM:SS'.\n",
    "    \"\"\"\n",
    "    timestamp_in_seconds = time / 1000\n",
    "    # Convert the timestamp to a human-readable date and time format\n",
    "    human_readable_time = datetime.fromtimestamp(timestamp_in_seconds).strftime('%Y-%m-%d %H:%M:%S')\n",
    "    return human_readable_time\n",
    "    \n",
    "def get_start_and_end_hour(job_run_id):\n",
    "    \"\"\"  \n",
    "      Retrieves the start and end times of a job run and returns them in human-readable format.\n",
    "    Args:\n",
    "        job_run_id (str): The ID of the job run.\n",
    "    Returns:\n",
    "        Tuple[str, str]: A tuple containing two strings representing the human-readable start and end times.\n",
    "    \"\"\"\n",
    "    # Retrieve the start and end times of the job run\n",
    "    start_time=w.jobs.get_run(job_run_id).start_time\n",
    "    end_time=w.jobs.get_run(job_run_id).end_time\n",
    "    # Convert the start and end times to human-readable format\n",
    "    hr_start_time=get_human_readable_time(start_time)\n",
    "    hr_end_time=get_human_readable_time(end_time)\n",
    "    return hr_start_time,hr_end_time"
   ]
  },
  {
   "cell_type": "code",
   "execution_count": 0,
   "metadata": {
    "application/vnd.databricks.v1+cell": {
     "cellMetadata": {},
     "inputWidgets": {},
     "nuid": "62c09ae0-11d6-495f-9b7b-3d6125ccba7d",
     "showTitle": false,
     "tableResultSettingsMap": {},
     "title": ""
    }
   },
   "outputs": [],
   "source": [
    "# Retrieve job run id\n",
    "job_run_id_str=str(dbutils.notebook.entry_point.getDbutils().notebook().getContext().tags().get(\"multitaskParentRunId\"))[5:-1]\n",
    "job_run_id=int(job_run_id_str)\n",
    "search_context='Error encountered when'"
   ]
  },
  {
   "cell_type": "code",
   "execution_count": 0,
   "metadata": {
    "application/vnd.databricks.v1+cell": {
     "cellMetadata": {},
     "inputWidgets": {},
     "nuid": "25888c13-8a9a-4541-be96-c1e2a051b29f",
     "showTitle": false,
     "tableResultSettingsMap": {},
     "title": ""
    }
   },
   "outputs": [],
   "source": [
    "# extracting cluster IDs from specific task creating a list\n",
    "w = WorkspaceClient()\n",
    "no_of_task=len(w.jobs.get_run(job_run_id).tasks)\n",
    "cluster_id_li=[w.jobs.get_run(job_run_id).tasks[task_no].cluster_instance.cluster_id for task_no in range(no_of_task) if w.jobs.get_run(job_run_id).tasks[task_no].cluster_instance !=None]\n",
    "cluster_ids=list(set(cluster_id_li))\n",
    "print(cluster_ids)"
   ]
  },
  {
   "cell_type": "code",
   "execution_count": 0,
   "metadata": {
    "application/vnd.databricks.v1+cell": {
     "cellMetadata": {},
     "inputWidgets": {},
     "nuid": "76e09db5-f6e6-4d44-920f-ea4a0206a34c",
     "showTitle": false,
     "tableResultSettingsMap": {},
     "title": ""
    }
   },
   "outputs": [],
   "source": [
    "start_time,end_time=get_start_and_end_hour(job_run_id)\n",
    "current_time=datetime.now()"
   ]
  },
  {
   "cell_type": "code",
   "execution_count": 0,
   "metadata": {
    "application/vnd.databricks.v1+cell": {
     "cellMetadata": {},
     "inputWidgets": {},
     "nuid": "b97de7f8-f647-41af-9f8f-480cb040f320",
     "showTitle": false,
     "tableResultSettingsMap": {},
     "title": ""
    }
   },
   "outputs": [],
   "source": [
    "# creating cluster paths\n",
    "cluster_paths=[]\n",
    "for cluster_id in cluster_ids:\n",
    "    if cluster_id=='0530-064903-emg91jkm':\n",
    "        cluster_path = f'dbfs:/cluster-logs/highmemory/{cluster_id}'\n",
    "    else:\n",
    "        cluster_path = f'dbfs:/cluster-logs/{cluster_id}'\n",
    "    cluster_paths.append(cluster_path)"
   ]
  },
  {
   "cell_type": "code",
   "execution_count": 0,
   "metadata": {
    "application/vnd.databricks.v1+cell": {
     "cellMetadata": {},
     "inputWidgets": {},
     "nuid": "2b8d8ae9-82a6-4324-858d-3197aef96c6e",
     "showTitle": false,
     "tableResultSettingsMap": {},
     "title": ""
    }
   },
   "outputs": [],
   "source": [
    "#  select files in driver \n",
    "files_in_driver=[]\n",
    "dr_count=0\n",
    "for cluster_path in cluster_paths:\n",
    "    try:\n",
    "        files_in_driver.extend(dbutils.fs.ls(f'{cluster_path}/driver/'))\n",
    "    except:\n",
    "        dr_count+=1\n",
    "        print(f'driver files missing for {dr_count} Cluster')"
   ]
  },
  {
   "cell_type": "code",
   "execution_count": 0,
   "metadata": {
    "application/vnd.databricks.v1+cell": {
     "cellMetadata": {},
     "inputWidgets": {},
     "nuid": "fc205fb2-8979-4cfd-8f6f-9b8a99feca22",
     "showTitle": false,
     "tableResultSettingsMap": {},
     "title": ""
    }
   },
   "outputs": [],
   "source": [
    "if end_time=='1970-01-01 00:00:00':\n",
    "    end_time=str(current_time)[:-7]\n",
    "    print('Current date selected')"
   ]
  },
  {
   "cell_type": "code",
   "execution_count": 0,
   "metadata": {
    "application/vnd.databricks.v1+cell": {
     "cellMetadata": {},
     "inputWidgets": {},
     "nuid": "087b739c-6311-4c67-936f-2469de3ff3d4",
     "showTitle": false,
     "tableResultSettingsMap": {},
     "title": ""
    }
   },
   "outputs": [],
   "source": [
    "# Convert the date-time strings to datetime objects\n",
    "start_datetime = datetime.strptime(start_time, \"%Y-%m-%d %H:%M:%S\")\n",
    "end_datetime = datetime.strptime(end_time, \"%Y-%m-%d %H:%M:%S\")\n",
    "\n",
    "datetime_list = []\n",
    "# Generate a list of consecutive date-times\n",
    "while start_datetime <= end_datetime:\n",
    "    datetime_list.append(start_datetime.strftime(\"%Y-%m-%d %H\"))\n",
    "    start_datetime += timedelta(hours=1)"
   ]
  },
  {
   "cell_type": "code",
   "execution_count": 0,
   "metadata": {
    "application/vnd.databricks.v1+cell": {
     "cellMetadata": {},
     "inputWidgets": {},
     "nuid": "97d1ae71-68ee-4eb3-a4c3-776677cb7671",
     "showTitle": false,
     "tableResultSettingsMap": {},
     "title": ""
    }
   },
   "outputs": [],
   "source": [
    "# selecting stderr file \n",
    "time_stamp_ending=end_time[:11]+str(int(end_time[11:13])+1)\n",
    "final_file_created_ts=files_in_driver[-1].name[8:22].replace('--',' ')\n",
    "stderr_file_name=[]\n",
    "if (str(current_time)[:-13]<=start_time[:-6]) or (time_stamp_ending>=final_file_created_ts):\n",
    "    stderr_file_name.append('stderr')\n",
    "stderr_file_name.extend([f'stderr--{date_time[:10]}--{int(date_time[11:])+1}' for date_time in datetime_list])\n",
    "stderr_file_list = [dr_file for dr_file in files_in_driver if dr_file.name[:19] in stderr_file_name]"
   ]
  },
  {
   "cell_type": "markdown",
   "metadata": {
    "application/vnd.databricks.v1+cell": {
     "cellMetadata": {},
     "inputWidgets": {},
     "nuid": "ff5db930-e52f-4472-9c35-2bc6a133b714",
     "showTitle": false,
     "tableResultSettingsMap": {},
     "title": ""
    }
   },
   "source": [
    "#Driver stderr files\n"
   ]
  },
  {
   "cell_type": "code",
   "execution_count": 0,
   "metadata": {
    "application/vnd.databricks.v1+cell": {
     "cellMetadata": {},
     "inputWidgets": {},
     "nuid": "e8a1d271-7f7f-4347-9690-e49d6d2c121a",
     "showTitle": false,
     "tableResultSettingsMap": {},
     "title": ""
    }
   },
   "outputs": [],
   "source": [
    "no_of_error_df=0\n",
    "for files in stderr_file_list:\n",
    "    df=spark.read.text(files.path)\n",
    "    df=df.filter((col(\"value\").like(f\"%{search_context}%\")))\n",
    "    if df.isEmpty():\n",
    "        continue\n",
    "    else:\n",
    "        no_of_error_df+=1\n",
    "        display(df)"
   ]
  },
  {
   "cell_type": "code",
   "execution_count": 0,
   "metadata": {
    "application/vnd.databricks.v1+cell": {
     "cellMetadata": {},
     "inputWidgets": {},
     "nuid": "d1b40cda-fa7d-4535-bb6f-341fed86da4d",
     "showTitle": false,
     "tableResultSettingsMap": {},
     "title": ""
    }
   },
   "outputs": [],
   "source": [
    "if no_of_error_df!=0:\n",
    "     raise Exception(\"Errors were encounterd while running the pipline\")"
   ]
  }
 ],
 "metadata": {
  "application/vnd.databricks.v1+notebook": {
   "computePreferences": null,
   "dashboards": [],
   "environmentMetadata": null,
   "language": "python",
   "notebookMetadata": {},
   "notebookName": "process_error_logs",
   "widgets": {}
  },
  "language_info": {
   "name": "python"
  }
 },
 "nbformat": 4,
 "nbformat_minor": 0
}