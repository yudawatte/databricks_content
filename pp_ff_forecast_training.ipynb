{
 "cells": [
  {
   "cell_type": "code",
   "execution_count": 0,
   "metadata": {
    "application/vnd.databricks.v1+cell": {
     "cellMetadata": {
      "byteLimit": 2048000,
      "rowLimit": 10000
     },
     "inputWidgets": {},
     "nuid": "c446c157-0fb1-4eda-b4ea-116a287a8cc1",
     "showTitle": false,
     "tableResultSettingsMap": {},
     "title": ""
    }
   },
   "outputs": [
    {
     "output_type": "display_data",
     "data": {
      "text/html": [
       "<style scoped>\n",
       "  .ansiout {\n",
       "    display: block;\n",
       "    unicode-bidi: embed;\n",
       "    white-space: pre-wrap;\n",
       "    word-wrap: break-word;\n",
       "    word-break: break-all;\n",
       "    font-family: \"Menlo\", \"Monaco\", \"Consolas\", \"Ubuntu Mono\", \"Source Code Pro\", monospace;\n",
       "    font-size: 13px;\n",
       "    color: #555;\n",
       "    margin-left: 4px;\n",
       "    line-height: 19px;\n",
       "  }\n",
       "</style>\n",
       "<div class=\"ansiout\">Python interpreter will be restarted.\n",
       "Python interpreter will be restarted.\n",
       "</div>"
      ]
     },
     "metadata": {
      "application/vnd.databricks.v1+output": {
       "addedWidgets": {},
       "arguments": {},
       "data": "<div class=\"ansiout\">Python interpreter will be restarted.\nPython interpreter will be restarted.\n</div>",
       "datasetInfos": [],
       "metadata": {},
       "removedWidgets": [],
       "type": "html"
      }
     },
     "output_type": "display_data"
    }
   ],
   "source": [
    "%pip install /dbfs/FileStore/python-wheels/dev/phgml-1.4.0-py3-none-any.whl -q"
   ]
  },
  {
   "cell_type": "code",
   "execution_count": 0,
   "metadata": {
    "application/vnd.databricks.v1+cell": {
     "cellMetadata": {
      "byteLimit": 2048000,
      "rowLimit": 10000
     },
     "inputWidgets": {},
     "nuid": "0cb391e2-6ce0-4381-b9bc-5018209a129f",
     "showTitle": false,
     "tableResultSettingsMap": {},
     "title": ""
    }
   },
   "outputs": [
    {
     "output_type": "display_data",
     "data": {
      "text/html": [
       "<style scoped>\n",
       "  .ansiout {\n",
       "    display: block;\n",
       "    unicode-bidi: embed;\n",
       "    white-space: pre-wrap;\n",
       "    word-wrap: break-word;\n",
       "    word-break: break-all;\n",
       "    font-family: \"Menlo\", \"Monaco\", \"Consolas\", \"Ubuntu Mono\", \"Source Code Pro\", monospace;\n",
       "    font-size: 13px;\n",
       "    color: #555;\n",
       "    margin-left: 4px;\n",
       "    line-height: 19px;\n",
       "  }\n",
       "</style>\n",
       "<div class=\"ansiout\"></div>"
      ]
     },
     "metadata": {
      "application/vnd.databricks.v1+output": {
       "addedWidgets": {},
       "arguments": {},
       "data": "<div class=\"ansiout\"></div>",
       "datasetInfos": [],
       "metadata": {},
       "removedWidgets": [],
       "type": "html"
      }
     },
     "output_type": "display_data"
    }
   ],
   "source": [
    "dbutils.widgets.dropdown(\"save_model\", \"True\", [\"True\", \"False\"], \"Save Model\")\n",
    "dbutils.widgets.text(\"model_tags\",\"model_stage:CA3_develop\", \"Model Tags\")"
   ]
  },
  {
   "cell_type": "code",
   "execution_count": 0,
   "metadata": {
    "application/vnd.databricks.v1+cell": {
     "cellMetadata": {
      "byteLimit": 2048000,
      "rowLimit": 10000
     },
     "inputWidgets": {},
     "nuid": "837838a9-f969-4daf-a5fb-e421b99eebec",
     "showTitle": false,
     "tableResultSettingsMap": {},
     "title": ""
    }
   },
   "outputs": [
    {
     "output_type": "display_data",
     "data": {
      "text/html": [
       "<style scoped>\n",
       "  .ansiout {\n",
       "    display: block;\n",
       "    unicode-bidi: embed;\n",
       "    white-space: pre-wrap;\n",
       "    word-wrap: break-word;\n",
       "    word-break: break-all;\n",
       "    font-family: \"Menlo\", \"Monaco\", \"Consolas\", \"Ubuntu Mono\", \"Source Code Pro\", monospace;\n",
       "    font-size: 13px;\n",
       "    color: #555;\n",
       "    margin-left: 4px;\n",
       "    line-height: 19px;\n",
       "  }\n",
       "</style>\n",
       "<div class=\"ansiout\"></div>"
      ]
     },
     "metadata": {
      "application/vnd.databricks.v1+output": {
       "addedWidgets": {},
       "arguments": {},
       "data": "<div class=\"ansiout\"></div>",
       "datasetInfos": [],
       "metadata": {},
       "removedWidgets": [],
       "type": "html"
      }
     },
     "output_type": "display_data"
    }
   ],
   "source": [
    "import pandas as pd\n",
    "from datetime import datetime, timedelta\n",
    "from typing import List\n",
    "import re\n",
    "import logging\n",
    "from mlflow import MlflowException\n",
    "from mlflow.client import MlflowClient\n",
    "import os\n",
    "import sys"
   ]
  },
  {
   "cell_type": "code",
   "execution_count": 0,
   "metadata": {
    "application/vnd.databricks.v1+cell": {
     "cellMetadata": {
      "byteLimit": 2048000,
      "rowLimit": 10000
     },
     "inputWidgets": {},
     "nuid": "1e65a84f-344f-4c56-81b1-14effce69228",
     "showTitle": false,
     "tableResultSettingsMap": {},
     "title": ""
    }
   },
   "outputs": [
    {
     "output_type": "display_data",
     "data": {
      "text/html": [
       "<style scoped>\n",
       "  .ansiout {\n",
       "    display: block;\n",
       "    unicode-bidi: embed;\n",
       "    white-space: pre-wrap;\n",
       "    word-wrap: break-word;\n",
       "    word-break: break-all;\n",
       "    font-family: \"Menlo\", \"Monaco\", \"Consolas\", \"Ubuntu Mono\", \"Source Code Pro\", monospace;\n",
       "    font-size: 13px;\n",
       "    color: #555;\n",
       "    margin-left: 4px;\n",
       "    line-height: 19px;\n",
       "  }\n",
       "</style>\n",
       "<div class=\"ansiout\"></div>"
      ]
     },
     "metadata": {
      "application/vnd.databricks.v1+output": {
       "addedWidgets": {},
       "arguments": {},
       "data": "<div class=\"ansiout\"></div>",
       "datasetInfos": [],
       "metadata": {},
       "removedWidgets": [],
       "type": "html"
      }
     },
     "output_type": "display_data"
    }
   ],
   "source": [
    "def str_to_bool(value):\n",
    "  FALSE_VALUES = ['false', 'no', '0']\n",
    "  TRUE_VALUES = ['true', 'yes', '1']\n",
    "  lvalue = str(value).lower()\n",
    "  if lvalue in (FALSE_VALUES): return False\n",
    "  if lvalue in (TRUE_VALUES):  return True\n",
    "  raise Exception(\"String value should be one of {}, but got '{}'.\".format(FALSE_VALUES + TRUE_VALUES, value))\n",
    "\n",
    "def extract_param_values(value: str)-> List[str]:\n",
    "    \"\"\"\n",
    "    The function takes comma seperated strings and return list of strings\n",
    "\n",
    "    input params:\n",
    "        value (str) : comma seperated strings\n",
    "\n",
    "    output:\n",
    "        (List) : list of strings\n",
    "    \"\"\"\n",
    "    if value == \"\":\n",
    "        return []\n",
    "    elif \",\" in value:\n",
    "        val_lst = value.split(\",\")\n",
    "        return val_lst\n",
    "    else:\n",
    "        return [value]\n",
    "    \n",
    "def get_model_tags(model_tags_str):\n",
    "    ''' A Validation for the model tag text through databricks utility'''\n",
    "    valid_pattern = r'(\\w+:\\w+)'\n",
    "    invalid_pattern = r'[^:,\\w\\s]'\n",
    "    str_cpy=model_tags_str.replace(\" \", '')\n",
    "\n",
    "    not_allowed_symbols = re.findall(pattern=invalid_pattern, string=str_cpy)\n",
    "    if len(not_allowed_symbols)>0:\n",
    "        raise ValueError('''Unwanted characters detected. Allowed characters are colon(:), comma(,), word characters and white space characters\n",
    "                            Please specify key values pairs as key1:value1,key2:value2\n",
    "                        ''')\n",
    "    else:\n",
    "        matching_pairs = re.findall(pattern=valid_pattern, string=str_cpy)\n",
    "\n",
    "        for matching_str in matching_pairs:\n",
    "            str_cpy = str_cpy.replace(matching_str,'')\n",
    "        str_cpy = str_cpy.replace(',','')\n",
    "        \n",
    "        if len(str_cpy)>0:\n",
    "            raise ValueError('''unmatched string components detected. please check the specified string\n",
    "                             Please specify key values pairs as key1:value1,key2:value2\n",
    "                             ''')\n",
    "        \n",
    "    return {key:value for key,value in map(lambda x: x.split(':'),matching_pairs)}"
   ]
  },
  {
   "cell_type": "code",
   "execution_count": 0,
   "metadata": {
    "application/vnd.databricks.v1+cell": {
     "cellMetadata": {
      "byteLimit": 2048000,
      "rowLimit": 10000
     },
     "inputWidgets": {},
     "nuid": "0b9f0326-4d28-481f-a273-3380e440123e",
     "showTitle": false,
     "tableResultSettingsMap": {},
     "title": ""
    }
   },
   "outputs": [
    {
     "output_type": "display_data",
     "data": {
      "text/html": [
       "<style scoped>\n",
       "  .ansiout {\n",
       "    display: block;\n",
       "    unicode-bidi: embed;\n",
       "    white-space: pre-wrap;\n",
       "    word-wrap: break-word;\n",
       "    word-break: break-all;\n",
       "    font-family: \"Menlo\", \"Monaco\", \"Consolas\", \"Ubuntu Mono\", \"Source Code Pro\", monospace;\n",
       "    font-size: 13px;\n",
       "    color: #555;\n",
       "    margin-left: 4px;\n",
       "    line-height: 19px;\n",
       "  }\n",
       "</style>\n",
       "<div class=\"ansiout\"></div>"
      ]
     },
     "metadata": {
      "application/vnd.databricks.v1+output": {
       "addedWidgets": {},
       "arguments": {},
       "data": "<div class=\"ansiout\"></div>",
       "datasetInfos": [],
       "metadata": {},
       "removedWidgets": [],
       "type": "html"
      }
     },
     "output_type": "display_data"
    }
   ],
   "source": [
    "params = {'WITHOUT_PMS': False,\n",
    " 'SELECTED_HOTELS': ['63662','26834','1406','10443','71999','64942','26532','55810'],\n",
    " 'ENV': 'dev',\n",
    " 'CACHE_MODELS': False,\n",
    " 'TARGET_TYPE': 'REVENUE',\n",
    " 'MODEL_TYPE': 'FARFIELD',\n",
    " 'REPOPATH': '/Workspace/Repos/manik@surge.global/phg-data-mlsys/src',\n",
    " 'FORECAST_POINTS': [91, 84, 77, 70, 63, 56, 49, 42, 35],\n",
    " 'CA_AWARE': True,\n",
    " 'IS_USD_CURRENCY': True,\n",
    " 'DAYS_AHEAD': 7,\n",
    " 'MAX_FORECAST_POINT': 91,\n",
    " 'MIN_FORECAST_POINT': 35,\n",
    " 'MAX_TARGET_LEAD': 100,\n",
    " 'MAX_LEAD': 151,\n",
    " 'LAG_NUMBERS': [7,14,21,28,35,42,49,56,63,70,77,84,91,98,105,112,119,126,133,140,147],\n",
    " 'MODEL_START_DATE': pd.to_datetime('2018-10-01 00:00:00'),\n",
    " 'COVID_START_DATE': pd.to_datetime('2020-03-01 00:00:00'),\n",
    " 'COVID_END_DATE': pd.to_datetime('2021-08-01 00:00:00'),\n",
    " 'REVENUE_COL': '_reservationRevenuePerRoomUSD',\n",
    " 'ROOMS_COL': '_rooms',\n",
    " 'TARGET_COLUMN': '_reservationRevenuePerRoomUSD',\n",
    " 'PREPROCESSED_TABLE': 'testing_data.pp_ff_preprocess_rv',\n",
    " 'PARTITION_DATE': datetime(2024, 7, 10, 3, 59, 6),\n",
    " 'CORRECTED_HOTEL_IDS': ['63662','26834','1406','10443','71999','64942','26532','55810']}"
   ]
  },
  {
   "cell_type": "code",
   "execution_count": 0,
   "metadata": {
    "application/vnd.databricks.v1+cell": {
     "cellMetadata": {
      "byteLimit": 2048000,
      "rowLimit": 10000
     },
     "inputWidgets": {},
     "nuid": "cf29c8fb-e132-4a46-9140-38270119b34d",
     "showTitle": false,
     "tableResultSettingsMap": {},
     "title": ""
    }
   },
   "outputs": [
    {
     "output_type": "display_data",
     "data": {
      "text/html": [
       "<style scoped>\n",
       "  .ansiout {\n",
       "    display: block;\n",
       "    unicode-bidi: embed;\n",
       "    white-space: pre-wrap;\n",
       "    word-wrap: break-word;\n",
       "    word-break: break-all;\n",
       "    font-family: \"Menlo\", \"Monaco\", \"Consolas\", \"Ubuntu Mono\", \"Source Code Pro\", monospace;\n",
       "    font-size: 13px;\n",
       "    color: #555;\n",
       "    margin-left: 4px;\n",
       "    line-height: 19px;\n",
       "  }\n",
       "</style>\n",
       "<div class=\"ansiout\"></div>"
      ]
     },
     "metadata": {
      "application/vnd.databricks.v1+output": {
       "addedWidgets": {},
       "arguments": {},
       "data": "<div class=\"ansiout\"></div>",
       "datasetInfos": [],
       "metadata": {},
       "removedWidgets": [],
       "type": "html"
      }
     },
     "output_type": "display_data"
    }
   ],
   "source": [
    "# params = {}\n",
    "# params['WITHOUT_PMS'] = dbutils.jobs.taskValues.get(taskKey = \"capture_params\", key = \"WITHOUT_PMS\")\n",
    "# params['SELECTED_HOTELS'] = dbutils.jobs.taskValues.get(taskKey = \"capture_params\", key = \"SELECTED_HOTELS\")\n",
    "# params['ENV'] = dbutils.jobs.taskValues.get(taskKey = \"capture_params\", key = \"ENV\")\n",
    "# params['CACHE_MODELS'] = dbutils.jobs.taskValues.get(taskKey = \"capture_params\", key = \"CACHE_MODELS\")\n",
    "# params['TARGET_TYPE'] = dbutils.jobs.taskValues.get(taskKey = \"capture_params\", key = \"TARGET_TYPE\")\n",
    "# params['MODEL_TYPE'] = dbutils.jobs.taskValues.get(taskKey = \"capture_params\", key = \"MODEL_TYPE\")\n",
    "# params['REPOPATH'] = dbutils.jobs.taskValues.get(taskKey = \"capture_params\", key = \"REPOPATH\")\n",
    "# params[\"FORECAST_POINTS\"] = dbutils.jobs.taskValues.get(taskKey = \"dev-ff-forecast-data-processing\", key = \"FORECAST_POINTS\")\n",
    "# params['CA_AWARE'] = dbutils.jobs.taskValues.get(taskKey = \"dev-ff-forecast-data-processing\", key = \"CA_AWARE\")\n",
    "# params['IS_USD_CURRENCY'] = dbutils.jobs.taskValues.get(taskKey = \"dev-ff-forecast-data-processing\", key = \"IS_USD_CURRENCY\")\n",
    "# params['DAYS_AHEAD'] = dbutils.jobs.taskValues.get(taskKey = \"dev-ff-forecast-data-processing\", key = \"DAYS_AHEAD\")\n",
    "# params['MAX_FORECAST_POINT'] = dbutils.jobs.taskValues.get(taskKey = \"dev-ff-forecast-data-processing\", key = \"MAX_FORECAST_POINT\")\n",
    "# params['MIN_FORECAST_POINT'] = dbutils.jobs.taskValues.get(taskKey = \"dev-ff-forecast-data-processing\", key = \"MIN_FORECAST_POINT\")\n",
    "# params['MAX_TARGET_LEAD'] = dbutils.jobs.taskValues.get(taskKey = \"dev-ff-forecast-data-processing\", key = \"MAX_TARGET_LEAD\")\n",
    "# params['MAX_LEAD'] = dbutils.jobs.taskValues.get(taskKey = \"dev-ff-forecast-data-processing\", key = \"MAX_LEAD\")\n",
    "# params['LAG_NUMBERS'] = dbutils.jobs.taskValues.get(taskKey = \"dev-ff-forecast-data-processing\", key = \"LAG_NUMBERS\")\n",
    "# params['MODEL_START_DATE'] = pd.to_datetime(dbutils.jobs.taskValues.get(taskKey = \"dev-ff-forecast-data-processing\", key = \"MODEL_START_DATE\"))\n",
    "# params['COVID_START_DATE'] = pd.to_datetime(dbutils.jobs.taskValues.get(taskKey = \"dev-ff-forecast-data-processing\", key = \"COVID_START_DATE\"))\n",
    "# params['COVID_END_DATE'] = pd.to_datetime(dbutils.jobs.taskValues.get(taskKey = \"dev-ff-forecast-data-processing\", key = \"COVID_END_DATE\"))\n",
    "# params['REVENUE_COL'] = dbutils.jobs.taskValues.get(taskKey = \"dev-ff-forecast-data-processing\", key = \"REVENUE_COL\")\n",
    "# params['ROOMS_COL'] = dbutils.jobs.taskValues.get(taskKey = \"dev-ff-forecast-data-processing\", key = \"ROOMS_COL\")\n",
    "# params['TARGET_COLUMN'] = dbutils.jobs.taskValues.get(taskKey = \"dev-ff-forecast-data-processing\", key = \"TARGET_COLUMN\")\n",
    "# params['PREPROCESSED_TABLE'] = dbutils.jobs.taskValues.get(taskKey = \"dev-ff-forecast-data-processing\", key = \"PREPROCESSED_TABLE\")\n",
    "# params['PARTITION_DATE'] = pd.to_datetime(dbutils.jobs.taskValues.get(taskKey = \"dev-ff-forecast-data-processing\", key = \"PARTITION_DATE\"))\n",
    "# params['CORRECTED_HOTEL_IDS'] = dbutils.jobs.taskValues.get(taskKey = \"dev-ff-forecast-data-processing\", key = \"CORRECTED_HOTEL_IDS\")\n",
    "\n",
    "params[\"ML_EXPERIMENT_ID\"] = 609933091443417\n",
    "params[\"CALC_UNCERTAINTY\"] = True\n",
    "params[\"SAVE_MODEL\"] = False\n",
    "params[\"SAVE_METRICS\"] = False\n",
    "params[\"MODEL_TAGS_DCT\"] = get_model_tags(getArgument(\"model_tags\"))\n",
    "params[\"MAX_FORECAST_POINT\"] = max(params[\"FORECAST_POINTS\"]) \n",
    "params[\"MIN_FORECAST_POINT\"] = min(params[\"FORECAST_POINTS\"]) \n",
    "params[\"MODEL_TAGS_DCT\"][\"last_updated_date\"] = str(datetime.now())\n",
    "params[\"MODEL_TAGS_DCT\"][\"days_ahead\"] = params[\"DAYS_AHEAD\"]\n",
    "params[\"MODEL_TAGS_DCT\"][\"max_forecast_point\"] = params[\"MAX_FORECAST_POINT\"]\n",
    "params[\"MODEL_TAGS_DCT\"][\"min_forecast_point\"] = params[\"MIN_FORECAST_POINT\"]\n",
    "params[\"MODEL_NAME_PREFIX\"] = None"
   ]
  },
  {
   "cell_type": "code",
   "execution_count": 0,
   "metadata": {
    "application/vnd.databricks.v1+cell": {
     "cellMetadata": {
      "byteLimit": 2048000,
      "rowLimit": 10000
     },
     "inputWidgets": {},
     "nuid": "0d940cdb-65cf-4697-b409-7bfe2cb18efc",
     "showTitle": false,
     "tableResultSettingsMap": {},
     "title": ""
    }
   },
   "outputs": [
    {
     "output_type": "display_data",
     "data": {
      "text/html": [
       "<style scoped>\n",
       "  .ansiout {\n",
       "    display: block;\n",
       "    unicode-bidi: embed;\n",
       "    white-space: pre-wrap;\n",
       "    word-wrap: break-word;\n",
       "    word-break: break-all;\n",
       "    font-family: \"Menlo\", \"Monaco\", \"Consolas\", \"Ubuntu Mono\", \"Source Code Pro\", monospace;\n",
       "    font-size: 13px;\n",
       "    color: #555;\n",
       "    margin-left: 4px;\n",
       "    line-height: 19px;\n",
       "  }\n",
       "</style>\n",
       "<div class=\"ansiout\"></div>"
      ]
     },
     "metadata": {
      "application/vnd.databricks.v1+output": {
       "addedWidgets": {},
       "arguments": {},
       "data": "<div class=\"ansiout\"></div>",
       "datasetInfos": [],
       "metadata": {},
       "removedWidgets": [],
       "type": "html"
      }
     },
     "output_type": "display_data"
    }
   ],
   "source": [
    "# if params[\"ENV\"] == \"dev\":\n",
    "#     print(f\"Loading phgml package from repo {params['REPOPATH']}\")\n",
    "#     sys.path.append(os.path.abspath(params[\"REPOPATH\"]))\n",
    "\n",
    "# sys.path.append(os.path.abspath(\"/Workspace/Repos/yasith.udawatte@henrymwuamica.onmicrosoft.com/phg-data-mlsys\"))"
   ]
  },
  {
   "cell_type": "code",
   "execution_count": 0,
   "metadata": {
    "application/vnd.databricks.v1+cell": {
     "cellMetadata": {
      "byteLimit": 2048000,
      "rowLimit": 10000
     },
     "inputWidgets": {},
     "nuid": "5f679631-a740-4a24-9ffc-bc1bd14ddceb",
     "showTitle": false,
     "tableResultSettingsMap": {},
     "title": ""
    }
   },
   "outputs": [
    {
     "output_type": "display_data",
     "data": {
      "text/html": [
       "<style scoped>\n",
       "  .ansiout {\n",
       "    display: block;\n",
       "    unicode-bidi: embed;\n",
       "    white-space: pre-wrap;\n",
       "    word-wrap: break-word;\n",
       "    word-break: break-all;\n",
       "    font-family: \"Menlo\", \"Monaco\", \"Consolas\", \"Ubuntu Mono\", \"Source Code Pro\", monospace;\n",
       "    font-size: 13px;\n",
       "    color: #555;\n",
       "    margin-left: 4px;\n",
       "    line-height: 19px;\n",
       "  }\n",
       "</style>\n",
       "<div class=\"ansiout\"></div>"
      ]
     },
     "metadata": {
      "application/vnd.databricks.v1+output": {
       "addedWidgets": {},
       "arguments": {},
       "data": "<div class=\"ansiout\"></div>",
       "datasetInfos": [],
       "metadata": {},
       "removedWidgets": [],
       "type": "html"
      }
     },
     "output_type": "display_data"
    }
   ],
   "source": [
    "from phgml.data.config import FarfieldForecastingHotelConfigProvider,FarfieldEnvironmentConfig\n",
    "from phgml.data.data_types import (\n",
    "    training_output_schema,\n",
    ")\n",
    "from phgml.pipeline.training import train_wrapper_farfield\n",
    "from phgml.reporting.logging import get_dbx_logger\n",
    "schema = training_output_schema"
   ]
  },
  {
   "cell_type": "code",
   "execution_count": 0,
   "metadata": {
    "application/vnd.databricks.v1+cell": {
     "cellMetadata": {
      "byteLimit": 2048000,
      "rowLimit": 10000
     },
     "inputWidgets": {},
     "nuid": "fd378dc0-c29e-4148-8741-1fc4a20c362b",
     "showTitle": false,
     "tableResultSettingsMap": {},
     "title": ""
    }
   },
   "outputs": [
    {
     "output_type": "display_data",
     "data": {
      "text/html": [
       "<style scoped>\n",
       "  .ansiout {\n",
       "    display: block;\n",
       "    unicode-bidi: embed;\n",
       "    white-space: pre-wrap;\n",
       "    word-wrap: break-word;\n",
       "    word-break: break-all;\n",
       "    font-family: \"Menlo\", \"Monaco\", \"Consolas\", \"Ubuntu Mono\", \"Source Code Pro\", monospace;\n",
       "    font-size: 13px;\n",
       "    color: #555;\n",
       "    margin-left: 4px;\n",
       "    line-height: 19px;\n",
       "  }\n",
       "</style>\n",
       "<div class=\"ansiout\"></div>"
      ]
     },
     "metadata": {
      "application/vnd.databricks.v1+output": {
       "addedWidgets": {},
       "arguments": {},
       "data": "<div class=\"ansiout\"></div>",
       "datasetInfos": [],
       "metadata": {},
       "removedWidgets": [],
       "type": "html"
      }
     },
     "output_type": "display_data"
    }
   ],
   "source": [
    "env_config = FarfieldEnvironmentConfig(\n",
    "    env=params[\"ENV\"], \n",
    "    without_pms=params[\"WITHOUT_PMS\"], \n",
    "    target=params[\"TARGET_TYPE\"],\n",
    "    spark=spark,\n",
    "    is_usd_currency=params[\"IS_USD_CURRENCY\"]\n",
    ")\n",
    "forecasting_config_provider = FarfieldForecastingHotelConfigProvider(spark=spark,env=params[\"ENV\"])\n",
    "params[\"TARGET_COLUMN\"] = env_config.target_column"
   ]
  },
  {
   "cell_type": "code",
   "execution_count": 0,
   "metadata": {
    "application/vnd.databricks.v1+cell": {
     "cellMetadata": {
      "byteLimit": 2048000,
      "rowLimit": 10000
     },
     "inputWidgets": {},
     "nuid": "6355528b-533b-4fef-a474-17d5e248d91a",
     "showTitle": false,
     "tableResultSettingsMap": {},
     "title": ""
    }
   },
   "outputs": [
    {
     "output_type": "display_data",
     "data": {
      "text/html": [
       "<style scoped>\n",
       "  .ansiout {\n",
       "    display: block;\n",
       "    unicode-bidi: embed;\n",
       "    white-space: pre-wrap;\n",
       "    word-wrap: break-word;\n",
       "    word-break: break-all;\n",
       "    font-family: \"Menlo\", \"Monaco\", \"Consolas\", \"Ubuntu Mono\", \"Source Code Pro\", monospace;\n",
       "    font-size: 13px;\n",
       "    color: #555;\n",
       "    margin-left: 4px;\n",
       "    line-height: 19px;\n",
       "  }\n",
       "</style>\n",
       "<div class=\"ansiout\">24/09/10/ 17:39:19 UTC:PHGML-dev-REVENUE-PMS-INFO-Processing data for target type: REVENUE : _reservationRevenuePerRoomUSD\n",
       "Processing data for target type: REVENUE : _reservationRevenuePerRoomUSD\n",
       "24/09/10/ 17:39:19 UTC:PHGML-dev-REVENUE-PMS-INFO-Excluding PMS data? False\n",
       "Excluding PMS data? False\n",
       "</div>"
      ]
     },
     "metadata": {
      "application/vnd.databricks.v1+output": {
       "addedWidgets": {},
       "arguments": {},
       "data": "<div class=\"ansiout\">24/09/10/ 17:39:19 UTC:PHGML-dev-REVENUE-PMS-INFO-Processing data for target type: REVENUE : _reservationRevenuePerRoomUSD\nProcessing data for target type: REVENUE : _reservationRevenuePerRoomUSD\n24/09/10/ 17:39:19 UTC:PHGML-dev-REVENUE-PMS-INFO-Excluding PMS data? False\nExcluding PMS data? False\n</div>",
       "datasetInfos": [],
       "metadata": {},
       "removedWidgets": [],
       "type": "html"
      }
     },
     "output_type": "display_data"
    }
   ],
   "source": [
    "logger = get_dbx_logger(pipeline=params[\"ENV\"],\n",
    "                        task_type=params[\"TARGET_TYPE\"],\n",
    "                        exclude_pms=params[\"WITHOUT_PMS\"])\n",
    "logger.setLevel(logging.INFO)\n",
    "\n",
    "logger.info(f\"Processing data for target type: {params['TARGET_TYPE']} : {params['TARGET_COLUMN']}\")\n",
    "logger.info(f\"Excluding PMS data? {params['WITHOUT_PMS']}\")"
   ]
  },
  {
   "cell_type": "code",
   "execution_count": 0,
   "metadata": {
    "application/vnd.databricks.v1+cell": {
     "cellMetadata": {
      "byteLimit": 2048000,
      "rowLimit": 10000
     },
     "inputWidgets": {},
     "nuid": "8309eae9-04cb-4c6b-a421-9deb4852afae",
     "showTitle": false,
     "tableResultSettingsMap": {},
     "title": ""
    }
   },
   "outputs": [
    {
     "output_type": "display_data",
     "data": {
      "text/html": [
       "<style scoped>\n",
       "  .ansiout {\n",
       "    display: block;\n",
       "    unicode-bidi: embed;\n",
       "    white-space: pre-wrap;\n",
       "    word-wrap: break-word;\n",
       "    word-break: break-all;\n",
       "    font-family: \"Menlo\", \"Monaco\", \"Consolas\", \"Ubuntu Mono\", \"Source Code Pro\", monospace;\n",
       "    font-size: 13px;\n",
       "    color: #555;\n",
       "    margin-left: 4px;\n",
       "    line-height: 19px;\n",
       "  }\n",
       "</style>\n",
       "<div class=\"ansiout\">24/09/10/ 17:39:19 UTC:PHGML-dev-REVENUE-PMS-INFO-Loading data from testing_data.pp_ff_preprocess_rv\n",
       "Loading data from testing_data.pp_ff_preprocess_rv\n",
       "</div>"
      ]
     },
     "metadata": {
      "application/vnd.databricks.v1+output": {
       "addedWidgets": {},
       "arguments": {},
       "data": "<div class=\"ansiout\">24/09/10/ 17:39:19 UTC:PHGML-dev-REVENUE-PMS-INFO-Loading data from testing_data.pp_ff_preprocess_rv\nLoading data from testing_data.pp_ff_preprocess_rv\n</div>",
       "datasetInfos": [],
       "metadata": {},
       "removedWidgets": [],
       "type": "html"
      }
     },
     "output_type": "display_data"
    }
   ],
   "source": [
    "logger.info(f\"Loading data from {params['PREPROCESSED_TABLE']}\")\n",
    "df = spark.sql(f\"select * from {params['PREPROCESSED_TABLE']}\")"
   ]
  },
  {
   "cell_type": "code",
   "execution_count": 0,
   "metadata": {
    "application/vnd.databricks.v1+cell": {
     "cellMetadata": {
      "byteLimit": 2048000,
      "rowLimit": 10000
     },
     "inputWidgets": {},
     "nuid": "9110ce41-ca5d-4e94-b259-bbcf2c64c0d1",
     "showTitle": false,
     "tableResultSettingsMap": {},
     "title": ""
    }
   },
   "outputs": [
    {
     "output_type": "display_data",
     "data": {
      "text/html": [
       "<style scoped>\n",
       "  .ansiout {\n",
       "    display: block;\n",
       "    unicode-bidi: embed;\n",
       "    white-space: pre-wrap;\n",
       "    word-wrap: break-word;\n",
       "    word-break: break-all;\n",
       "    font-family: \"Menlo\", \"Monaco\", \"Consolas\", \"Ubuntu Mono\", \"Source Code Pro\", monospace;\n",
       "    font-size: 13px;\n",
       "    color: #555;\n",
       "    margin-left: 4px;\n",
       "    line-height: 19px;\n",
       "  }\n",
       "</style>\n",
       "<div class=\"ansiout\"></div>"
      ]
     },
     "metadata": {
      "application/vnd.databricks.v1+output": {
       "addedWidgets": {},
       "arguments": {},
       "data": "<div class=\"ansiout\"></div>",
       "datasetInfos": [],
       "metadata": {},
       "removedWidgets": [],
       "type": "html"
      }
     },
     "output_type": "display_data"
    }
   ],
   "source": [
    "if df.count() <= 0:\n",
    "    logger.error(\"The loaded training dataset is empty.\")\n",
    "    logger.info(\"Terminting the pipeline execution\")\n",
    "    raise Exception(\"The loaded training dataset is empty.\")"
   ]
  },
  {
   "cell_type": "code",
   "execution_count": 0,
   "metadata": {
    "application/vnd.databricks.v1+cell": {
     "cellMetadata": {
      "byteLimit": 2048000,
      "rowLimit": 10000
     },
     "inputWidgets": {},
     "nuid": "dfe7ded9-33d4-42b6-a179-62b8890004d8",
     "showTitle": false,
     "tableResultSettingsMap": {},
     "title": ""
    }
   },
   "outputs": [
    {
     "output_type": "display_data",
     "data": {
      "text/html": [
       "<style scoped>\n",
       "  .ansiout {\n",
       "    display: block;\n",
       "    unicode-bidi: embed;\n",
       "    white-space: pre-wrap;\n",
       "    word-wrap: break-word;\n",
       "    word-break: break-all;\n",
       "    font-family: \"Menlo\", \"Monaco\", \"Consolas\", \"Ubuntu Mono\", \"Source Code Pro\", monospace;\n",
       "    font-size: 13px;\n",
       "    color: #555;\n",
       "    margin-left: 4px;\n",
       "    line-height: 19px;\n",
       "  }\n",
       "</style>\n",
       "<div class=\"ansiout\">Out[12]: {&#39;WITHOUT_PMS&#39;: False,\n",
       " &#39;SELECTED_HOTELS&#39;: [&#39;63662&#39;,\n",
       "  &#39;26834&#39;,\n",
       "  &#39;1406&#39;,\n",
       "  &#39;10443&#39;,\n",
       "  &#39;71999&#39;,\n",
       "  &#39;64942&#39;,\n",
       "  &#39;26532&#39;,\n",
       "  &#39;55810&#39;],\n",
       " &#39;ENV&#39;: &#39;dev&#39;,\n",
       " &#39;CACHE_MODELS&#39;: False,\n",
       " &#39;TARGET_TYPE&#39;: &#39;REVENUE&#39;,\n",
       " &#39;MODEL_TYPE&#39;: &#39;FARFIELD&#39;,\n",
       " &#39;REPOPATH&#39;: &#39;/Workspace/Repos/manik@surge.global/phg-data-mlsys/src&#39;,\n",
       " &#39;FORECAST_POINTS&#39;: [91, 84, 77, 70, 63, 56, 49, 42, 35],\n",
       " &#39;CA_AWARE&#39;: True,\n",
       " &#39;IS_USD_CURRENCY&#39;: True,\n",
       " &#39;DAYS_AHEAD&#39;: 7,\n",
       " &#39;MAX_FORECAST_POINT&#39;: 91,\n",
       " &#39;MIN_FORECAST_POINT&#39;: 35,\n",
       " &#39;MAX_TARGET_LEAD&#39;: 100,\n",
       " &#39;MAX_LEAD&#39;: 151,\n",
       " &#39;LAG_NUMBERS&#39;: [7,\n",
       "  14,\n",
       "  21,\n",
       "  28,\n",
       "  35,\n",
       "  42,\n",
       "  49,\n",
       "  56,\n",
       "  63,\n",
       "  70,\n",
       "  77,\n",
       "  84,\n",
       "  91,\n",
       "  98,\n",
       "  105,\n",
       "  112,\n",
       "  119,\n",
       "  126,\n",
       "  133,\n",
       "  140,\n",
       "  147],\n",
       " &#39;MODEL_START_DATE&#39;: Timestamp(&#39;2018-10-01 00:00:00&#39;),\n",
       " &#39;COVID_START_DATE&#39;: Timestamp(&#39;2020-03-01 00:00:00&#39;),\n",
       " &#39;COVID_END_DATE&#39;: Timestamp(&#39;2021-08-01 00:00:00&#39;),\n",
       " &#39;REVENUE_COL&#39;: &#39;_reservationRevenuePerRoomUSD&#39;,\n",
       " &#39;ROOMS_COL&#39;: &#39;_rooms&#39;,\n",
       " &#39;TARGET_COLUMN&#39;: &#39;_reservationRevenuePerRoomUSD&#39;,\n",
       " &#39;PREPROCESSED_TABLE&#39;: &#39;testing_data.pp_ff_preprocess_rv&#39;,\n",
       " &#39;PARTITION_DATE&#39;: datetime.datetime(2024, 7, 10, 3, 59, 6),\n",
       " &#39;CORRECTED_HOTEL_IDS&#39;: [&#39;63662&#39;,\n",
       "  &#39;26834&#39;,\n",
       "  &#39;1406&#39;,\n",
       "  &#39;10443&#39;,\n",
       "  &#39;71999&#39;,\n",
       "  &#39;64942&#39;,\n",
       "  &#39;26532&#39;,\n",
       "  &#39;55810&#39;],\n",
       " &#39;ML_EXPERIMENT_ID&#39;: 609933091443417,\n",
       " &#39;CALC_UNCERTAINTY&#39;: True,\n",
       " &#39;SAVE_MODEL&#39;: False,\n",
       " &#39;SAVE_METRICS&#39;: False,\n",
       " &#39;MODEL_TAGS_DCT&#39;: {&#39;model_stage&#39;: &#39;CA3_develop&#39;,\n",
       "  &#39;last_updated_date&#39;: &#39;2024-09-10 17:39:16.850907&#39;,\n",
       "  &#39;days_ahead&#39;: 7,\n",
       "  &#39;max_forecast_point&#39;: 91,\n",
       "  &#39;min_forecast_point&#39;: 35},\n",
       " &#39;MODEL_NAME_PREFIX&#39;: None}</div>"
      ]
     },
     "metadata": {
      "application/vnd.databricks.v1+output": {
       "addedWidgets": {},
       "arguments": {},
       "data": "<div class=\"ansiout\">Out[12]: {&#39;WITHOUT_PMS&#39;: False,\n &#39;SELECTED_HOTELS&#39;: [&#39;63662&#39;,\n  &#39;26834&#39;,\n  &#39;1406&#39;,\n  &#39;10443&#39;,\n  &#39;71999&#39;,\n  &#39;64942&#39;,\n  &#39;26532&#39;,\n  &#39;55810&#39;],\n &#39;ENV&#39;: &#39;dev&#39;,\n &#39;CACHE_MODELS&#39;: False,\n &#39;TARGET_TYPE&#39;: &#39;REVENUE&#39;,\n &#39;MODEL_TYPE&#39;: &#39;FARFIELD&#39;,\n &#39;REPOPATH&#39;: &#39;/Workspace/Repos/manik@surge.global/phg-data-mlsys/src&#39;,\n &#39;FORECAST_POINTS&#39;: [91, 84, 77, 70, 63, 56, 49, 42, 35],\n &#39;CA_AWARE&#39;: True,\n &#39;IS_USD_CURRENCY&#39;: True,\n &#39;DAYS_AHEAD&#39;: 7,\n &#39;MAX_FORECAST_POINT&#39;: 91,\n &#39;MIN_FORECAST_POINT&#39;: 35,\n &#39;MAX_TARGET_LEAD&#39;: 100,\n &#39;MAX_LEAD&#39;: 151,\n &#39;LAG_NUMBERS&#39;: [7,\n  14,\n  21,\n  28,\n  35,\n  42,\n  49,\n  56,\n  63,\n  70,\n  77,\n  84,\n  91,\n  98,\n  105,\n  112,\n  119,\n  126,\n  133,\n  140,\n  147],\n &#39;MODEL_START_DATE&#39;: Timestamp(&#39;2018-10-01 00:00:00&#39;),\n &#39;COVID_START_DATE&#39;: Timestamp(&#39;2020-03-01 00:00:00&#39;),\n &#39;COVID_END_DATE&#39;: Timestamp(&#39;2021-08-01 00:00:00&#39;),\n &#39;REVENUE_COL&#39;: &#39;_reservationRevenuePerRoomUSD&#39;,\n &#39;ROOMS_COL&#39;: &#39;_rooms&#39;,\n &#39;TARGET_COLUMN&#39;: &#39;_reservationRevenuePerRoomUSD&#39;,\n &#39;PREPROCESSED_TABLE&#39;: &#39;testing_data.pp_ff_preprocess_rv&#39;,\n &#39;PARTITION_DATE&#39;: datetime.datetime(2024, 7, 10, 3, 59, 6),\n &#39;CORRECTED_HOTEL_IDS&#39;: [&#39;63662&#39;,\n  &#39;26834&#39;,\n  &#39;1406&#39;,\n  &#39;10443&#39;,\n  &#39;71999&#39;,\n  &#39;64942&#39;,\n  &#39;26532&#39;,\n  &#39;55810&#39;],\n &#39;ML_EXPERIMENT_ID&#39;: 609933091443417,\n &#39;CALC_UNCERTAINTY&#39;: True,\n &#39;SAVE_MODEL&#39;: False,\n &#39;SAVE_METRICS&#39;: False,\n &#39;MODEL_TAGS_DCT&#39;: {&#39;model_stage&#39;: &#39;CA3_develop&#39;,\n  &#39;last_updated_date&#39;: &#39;2024-09-10 17:39:16.850907&#39;,\n  &#39;days_ahead&#39;: 7,\n  &#39;max_forecast_point&#39;: 91,\n  &#39;min_forecast_point&#39;: 35},\n &#39;MODEL_NAME_PREFIX&#39;: None}</div>",
       "datasetInfos": [],
       "metadata": {},
       "removedWidgets": [],
       "type": "html"
      }
     },
     "output_type": "display_data"
    }
   ],
   "source": [
    "params"
   ]
  },
  {
   "cell_type": "code",
   "execution_count": 0,
   "metadata": {
    "application/vnd.databricks.v1+cell": {
     "cellMetadata": {
      "byteLimit": 2048000,
      "rowLimit": 10000
     },
     "inputWidgets": {},
     "nuid": "aa83a588-d841-46af-981a-aa885a301b04",
     "showTitle": false,
     "tableResultSettingsMap": {},
     "title": ""
    }
   },
   "outputs": [
    {
     "output_type": "display_data",
     "data": {
      "text/html": [
       "<style scoped>\n",
       "  .ansiout {\n",
       "    display: block;\n",
       "    unicode-bidi: embed;\n",
       "    white-space: pre-wrap;\n",
       "    word-wrap: break-word;\n",
       "    word-break: break-all;\n",
       "    font-family: \"Menlo\", \"Monaco\", \"Consolas\", \"Ubuntu Mono\", \"Source Code Pro\", monospace;\n",
       "    font-size: 13px;\n",
       "    color: #555;\n",
       "    margin-left: 4px;\n",
       "    line-height: 19px;\n",
       "  }\n",
       "</style>\n",
       "<div class=\"ansiout\">24/09/10/ 17:39:20 UTC:PHGML-dev-REVENUE-PMS-INFO-Starting parallel training\n",
       "Starting parallel training\n",
       "</div>"
      ]
     },
     "metadata": {
      "application/vnd.databricks.v1+output": {
       "addedWidgets": {},
       "arguments": {},
       "data": "<div class=\"ansiout\">24/09/10/ 17:39:20 UTC:PHGML-dev-REVENUE-PMS-INFO-Starting parallel training\nStarting parallel training\n</div>",
       "datasetInfos": [],
       "metadata": {},
       "removedWidgets": [],
       "type": "html"
      }
     },
     "output_type": "display_data"
    }
   ],
   "source": [
    "# Group the data by hotel id and execute the trainings in parallel\n",
    "logger.info(\"Starting parallel training\")\n",
    "\n",
    "output_df = df.groupby(\"HotelID\").applyInPandas(\n",
    "    train_wrapper_farfield(\n",
    "        target_type=params[\"TARGET_TYPE\"],\n",
    "        ml_experiment_id=params[\"ML_EXPERIMENT_ID\"],\n",
    "        exclude_pms=params[\"WITHOUT_PMS\"],\n",
    "        calc_uncertainty=params[\"CALC_UNCERTAINTY\"],\n",
    "        hotel_config_provider=forecasting_config_provider,\n",
    "        processing_timestamp=datetime.now(),\n",
    "        save_models=params[\"SAVE_MODEL\"],\n",
    "        save_metrics=params[\"SAVE_METRICS\"],\n",
    "        lag_numbers=[],\n",
    "        forecast_points=params[\"FORECAST_POINTS\"],\n",
    "        # model_name_prefix=params[\"MODEL_NAME_PREFIX\"],\n",
    "        model_tags=params[\"MODEL_TAGS_DCT\"]\n",
    "    ),\n",
    "    schema,\n",
    ")"
   ]
  },
  {
   "cell_type": "code",
   "execution_count": 0,
   "metadata": {
    "application/vnd.databricks.v1+cell": {
     "cellMetadata": {
      "byteLimit": 2048000,
      "rowLimit": 10000
     },
     "inputWidgets": {},
     "nuid": "8fa0fc2b-3067-4edc-a0a2-bbd92d48afee",
     "showTitle": false,
     "tableResultSettingsMap": {},
     "title": ""
    }
   },
   "outputs": [
    {
     "output_type": "display_data",
     "data": {
      "text/html": [
       "<style scoped>\n",
       "  .table-result-container {\n",
       "    max-height: 300px;\n",
       "    overflow: auto;\n",
       "  }\n",
       "  table, th, td {\n",
       "    border: 1px solid black;\n",
       "    border-collapse: collapse;\n",
       "  }\n",
       "  th, td {\n",
       "    padding: 5px;\n",
       "  }\n",
       "  th {\n",
       "    text-align: left;\n",
       "  }\n",
       "</style><div class='table-result-container'><table class='table-result'><thead style='background-color: white'><tr><th>HotelID</th><th>run_id</th><th>model_version</th><th>timestamp</th><th>pms_sync_off</th><th>model_name</th><th>status</th><th>message</th></tr></thead><tbody><tr><td>71999</td><td>e7570a1d7b83464e88a34db7b7554075</td><td>1</td><td>2024-09-10T17:39:20.332+0000</td><td>false</td><td>71999_REVENUE_PMS_LGBM_FARFIELD_model</td><td>complete</td><td>Successfully trained 71999</td></tr><tr><td>55810</td><td>302b92d3504e41798b732499bd9e87d4</td><td>1</td><td>2024-09-10T17:39:20.332+0000</td><td>false</td><td>55810_REVENUE_PMS_LGBM_FARFIELD_model</td><td>complete</td><td>Successfully trained 55810</td></tr><tr><td>10443</td><td>141ba72f630342a79f37bc3d1d21a1a1</td><td>1</td><td>2024-09-10T17:39:20.332+0000</td><td>false</td><td>10443_REVENUE_PMS_LGBM_FARFIELD_model</td><td>complete</td><td>Successfully trained 10443</td></tr><tr><td>63662</td><td>3ad910b78d4447cc83e147b5ab744354</td><td>1</td><td>2024-09-10T17:39:20.332+0000</td><td>false</td><td>63662_REVENUE_PMS_LGBM_FARFIELD_model</td><td>complete</td><td>Successfully trained 63662</td></tr><tr><td>1406</td><td>ca8f87ca617b4d5386b8eacbf29f3763</td><td>1</td><td>2024-09-10T17:39:20.332+0000</td><td>false</td><td>1406_REVENUE_PMS_LGBM_FARFIELD_model</td><td>complete</td><td>Successfully trained 1406</td></tr><tr><td>64942</td><td>75ea4b7117334f4c8f8dd027239a738b</td><td>1</td><td>2024-09-10T17:39:20.332+0000</td><td>false</td><td>64942_REVENUE_PMS_LGBM_FARFIELD_model</td><td>complete</td><td>Successfully trained 64942</td></tr><tr><td>26532</td><td>877fd18811174c7aa86424af0af909b3</td><td>1</td><td>2024-09-10T17:39:20.332+0000</td><td>false</td><td>26532_REVENUE_PMS_LGBM_FARFIELD_model</td><td>complete</td><td>Successfully trained 26532</td></tr><tr><td>26834</td><td>dd0a254c2b2645248fe9a724c9cd535b</td><td>1</td><td>2024-09-10T17:39:20.332+0000</td><td>false</td><td>26834_REVENUE_PMS_LGBM_FARFIELD_model</td><td>complete</td><td>Successfully trained 26834</td></tr></tbody></table></div>"
      ]
     },
     "metadata": {
      "application/vnd.databricks.v1+output": {
       "addedWidgets": {},
       "aggData": [],
       "aggError": "",
       "aggOverflow": false,
       "aggSchema": [],
       "aggSeriesLimitReached": false,
       "aggType": "",
       "arguments": {},
       "columnCustomDisplayInfos": {},
       "data": [
        [
         "71999",
         "e7570a1d7b83464e88a34db7b7554075",
         1,
         "2024-09-10T17:39:20.332+0000",
         false,
         "71999_REVENUE_PMS_LGBM_FARFIELD_model",
         "complete",
         "Successfully trained 71999"
        ],
        [
         "55810",
         "302b92d3504e41798b732499bd9e87d4",
         1,
         "2024-09-10T17:39:20.332+0000",
         false,
         "55810_REVENUE_PMS_LGBM_FARFIELD_model",
         "complete",
         "Successfully trained 55810"
        ],
        [
         "10443",
         "141ba72f630342a79f37bc3d1d21a1a1",
         1,
         "2024-09-10T17:39:20.332+0000",
         false,
         "10443_REVENUE_PMS_LGBM_FARFIELD_model",
         "complete",
         "Successfully trained 10443"
        ],
        [
         "63662",
         "3ad910b78d4447cc83e147b5ab744354",
         1,
         "2024-09-10T17:39:20.332+0000",
         false,
         "63662_REVENUE_PMS_LGBM_FARFIELD_model",
         "complete",
         "Successfully trained 63662"
        ],
        [
         "1406",
         "ca8f87ca617b4d5386b8eacbf29f3763",
         1,
         "2024-09-10T17:39:20.332+0000",
         false,
         "1406_REVENUE_PMS_LGBM_FARFIELD_model",
         "complete",
         "Successfully trained 1406"
        ],
        [
         "64942",
         "75ea4b7117334f4c8f8dd027239a738b",
         1,
         "2024-09-10T17:39:20.332+0000",
         false,
         "64942_REVENUE_PMS_LGBM_FARFIELD_model",
         "complete",
         "Successfully trained 64942"
        ],
        [
         "26532",
         "877fd18811174c7aa86424af0af909b3",
         1,
         "2024-09-10T17:39:20.332+0000",
         false,
         "26532_REVENUE_PMS_LGBM_FARFIELD_model",
         "complete",
         "Successfully trained 26532"
        ],
        [
         "26834",
         "dd0a254c2b2645248fe9a724c9cd535b",
         1,
         "2024-09-10T17:39:20.332+0000",
         false,
         "26834_REVENUE_PMS_LGBM_FARFIELD_model",
         "complete",
         "Successfully trained 26834"
        ]
       ],
       "datasetInfos": [],
       "dbfsResultPath": null,
       "isJsonSchema": true,
       "metadata": {},
       "overflow": false,
       "plotOptions": {
        "customPlotOptions": {},
        "displayType": "table",
        "pivotAggregation": null,
        "pivotColumns": null,
        "xColumns": null,
        "yColumns": null
       },
       "removedWidgets": [],
       "schema": [
        {
         "metadata": "{}",
         "name": "HotelID",
         "type": "\"string\""
        },
        {
         "metadata": "{}",
         "name": "run_id",
         "type": "\"string\""
        },
        {
         "metadata": "{}",
         "name": "model_version",
         "type": "\"long\""
        },
        {
         "metadata": "{}",
         "name": "timestamp",
         "type": "\"timestamp\""
        },
        {
         "metadata": "{}",
         "name": "pms_sync_off",
         "type": "\"boolean\""
        },
        {
         "metadata": "{}",
         "name": "model_name",
         "type": "\"string\""
        },
        {
         "metadata": "{}",
         "name": "status",
         "type": "\"string\""
        },
        {
         "metadata": "{}",
         "name": "message",
         "type": "\"string\""
        }
       ],
       "type": "table"
      }
     },
     "output_type": "display_data"
    }
   ],
   "source": [
    "display(output_df)"
   ]
  },
  {
   "cell_type": "code",
   "execution_count": 0,
   "metadata": {
    "application/vnd.databricks.v1+cell": {
     "cellMetadata": {},
     "inputWidgets": {},
     "nuid": "a7d210d6-b6a2-41df-b79b-e356ff7e58cf",
     "showTitle": false,
     "tableResultSettingsMap": {},
     "title": ""
    }
   },
   "outputs": [],
   "source": [
    "output_df = output_df.toPandas()"
   ]
  },
  {
   "cell_type": "code",
   "execution_count": 0,
   "metadata": {
    "application/vnd.databricks.v1+cell": {
     "cellMetadata": {},
     "inputWidgets": {},
     "nuid": "5d812e32-d539-427d-b685-2d1d87f6e537",
     "showTitle": false,
     "tableResultSettingsMap": {},
     "title": ""
    }
   },
   "outputs": [],
   "source": [
    "for index, row in output_df.iterrows():\n",
    "    if row.status == \"complete\":\n",
    "        logger.info(f\"{row.message}\")\n",
    "    else:\n",
    "        logger.error(\n",
    "            f\"Error encountered when training hotel {row.HotelID}: {row.message}\"\n",
    "        )"
   ]
  },
  {
   "cell_type": "code",
   "execution_count": 0,
   "metadata": {
    "application/vnd.databricks.v1+cell": {
     "cellMetadata": {},
     "inputWidgets": {},
     "nuid": "a003b057-af15-45d5-9289-3550a062e97a",
     "showTitle": false,
     "tableResultSettingsMap": {},
     "title": ""
    }
   },
   "outputs": [],
   "source": [
    "client = MlflowClient()\n",
    "completed = output_df[output_df[\"status\"]==\"complete\"]\n",
    "\n",
    "outputs_list = []\n",
    "for n,g in completed.groupby([\"HotelID\",\"model_name\"]):\n",
    "    hotel_id = n[0]\n",
    "    model_name = n[1]\n",
    "    hotel_config = forecasting_config_provider.get_config(hotel_id)\n",
    "\n",
    "    mv = client.get_latest_versions(name=model_name)[0]\n",
    "    print(mv)\n",
    "    arts = client.list_artifacts(mv.run_id,path=f\"forecasting/{hotel_id}/models/{model_name}/artifacts\")\n",
    "    \n",
    "    outputs_list.append({\"hotel_id\":hotel_id,\n",
    "                         \"model_name\":model_name,\n",
    "                         \"creation_time\":datetime.fromtimestamp(mv.creation_timestamp/1e3),\n",
    "                         \"last_update\":datetime.fromtimestamp(mv.last_updated_timestamp/1e3),\n",
    "                         \"version\":mv.version,\n",
    "                         \"target\":params[\"TARGET_TYPE\"],\n",
    "                         \"exclude_pms\":params[\"WITHOUT_PMS\"],\n",
    "                         \"config_train_length\":hotel_config.booking_pace_start,\n",
    "                         \"config_infer_length\":hotel_config.booking_pace_end,\n",
    "                         \"num_model_steps\":len(arts)-1})\n",
    "    \n",
    "    print(f\"Hotel: {hotel_id} target_type:{params['TARGET_TYPE']} exclude_pms:{params['WITHOUT_PMS']} : {len(arts)-1}\")\n",
    "\n",
    "completed_df = pd.DataFrame(outputs_list)"
   ]
  }
 ],
 "metadata": {
  "application/vnd.databricks.v1+notebook": {
   "computePreferences": null,
   "dashboards": [],
   "environmentMetadata": null,
   "language": "python",
   "notebookMetadata": {
    "pythonIndentUnit": 4
   },
   "notebookName": "pp_ff_forecast_training",
   "widgets": {
    "model_tags": {
     "currentValue": "model_stage:CA3_develop",
     "nuid": "d849094c-cfa5-4368-949c-3d62c3fa6fb5",
     "typedWidgetInfo": {
      "autoCreated": false,
      "defaultValue": "model_stage:CA3_develop",
      "label": "Model Tags",
      "name": "model_tags",
      "options": {
       "widgetDisplayType": "Text",
       "validationRegex": null
      },
      "parameterDataType": "String"
     },
     "widgetInfo": {
      "widgetType": "text",
      "defaultValue": "model_stage:CA3_develop",
      "label": "Model Tags",
      "name": "model_tags",
      "options": {
       "widgetType": "text",
       "autoCreated": null,
       "validationRegex": null
      }
     }
    },
    "save_model": {
     "currentValue": "True",
     "nuid": "bf270aee-a16d-437a-b2e2-90a7d41c44a2",
     "typedWidgetInfo": {
      "autoCreated": false,
      "defaultValue": "True",
      "label": "Save Model",
      "name": "save_model",
      "options": {
       "widgetDisplayType": "Dropdown",
       "choices": [
        "True",
        "False"
       ],
       "fixedDomain": true,
       "multiselect": false
      },
      "parameterDataType": "String"
     },
     "widgetInfo": {
      "widgetType": "dropdown",
      "defaultValue": "True",
      "label": "Save Model",
      "name": "save_model",
      "options": {
       "widgetType": "dropdown",
       "autoCreated": null,
       "choices": [
        "True",
        "False"
       ]
      }
     }
    }
   }
  },
  "language_info": {
   "name": "python"
  }
 },
 "nbformat": 4,
 "nbformat_minor": 0
}