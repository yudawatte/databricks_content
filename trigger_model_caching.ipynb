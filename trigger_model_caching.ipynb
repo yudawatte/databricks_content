{
 "cells": [
  {
   "cell_type": "code",
   "execution_count": 0,
   "metadata": {
    "application/vnd.databricks.v1+cell": {
     "cellMetadata": {},
     "inputWidgets": {},
     "nuid": "2797f525-a71a-469c-a283-a1c2b53b1937",
     "showTitle": false,
     "tableResultSettingsMap": {},
     "title": ""
    }
   },
   "outputs": [],
   "source": [
    "dbutils.widgets.dropdown(\"env_stage\", \"dev\", [\"dev\", \"prod\"], \"Pipeline stage\")\n",
    "\n",
    "dbutils.widgets.dropdown(\"exclude_pms\", \"False\", [\"True\", \"False\"], \"Exclude PMS\")\n",
    "\n",
    "dbutils.widgets.dropdown(\"target_type\", \"REVENUE\", [\"REVENUE\", \"ROOMS\"], \"Target Type\")\n",
    "\n",
    "dbutils.widgets.text(\"selected_hotels\", \"\", \"Hotels\")\n",
    "\n",
    "dbutils.widgets.dropdown(\"cache_models\", \"False\", [\"True\", \"False\"], \"Run Cache Models\")"
   ]
  },
  {
   "cell_type": "code",
   "execution_count": 0,
   "metadata": {
    "application/vnd.databricks.v1+cell": {
     "cellMetadata": {},
     "inputWidgets": {},
     "nuid": "6f8e4d5e-c87b-4f17-98ea-b8b3604b9f68",
     "showTitle": false,
     "tableResultSettingsMap": {},
     "title": ""
    }
   },
   "outputs": [],
   "source": [
    "import requests\n",
    "\n",
    "def str_to_bool(value):\n",
    "  FALSE_VALUES = ['false', 'no', '0']\n",
    "  TRUE_VALUES = ['true', 'yes', '1']\n",
    "  lvalue = str(value).lower()\n",
    "  if lvalue in (FALSE_VALUES): return False\n",
    "  if lvalue in (TRUE_VALUES):  return True\n",
    "  raise Exception(\"String value should be one of {}, but got '{}'.\".format(FALSE_VALUES + TRUE_VALUES, value))\n",
    "\n",
    "def extract_selected_hotels(value):\n",
    "    if value == \"\":\n",
    "        return []\n",
    "    elif \",\" in value:\n",
    "        hotels = value.split(\",\")\n",
    "        return hotels\n",
    "\n",
    "    return [value]"
   ]
  },
  {
   "cell_type": "code",
   "execution_count": 0,
   "metadata": {
    "application/vnd.databricks.v1+cell": {
     "cellMetadata": {},
     "inputWidgets": {},
     "nuid": "e805e273-81e8-498a-92f2-bbb069bad6a0",
     "showTitle": false,
     "tableResultSettingsMap": {},
     "title": ""
    }
   },
   "outputs": [],
   "source": [
    "\n",
    "selected_hotels_str = getArgument(\"selected_hotels\")\n",
    "selected_hotels = extract_selected_hotels(selected_hotels_str)\n",
    "env = getArgument(\"env_stage\")\n",
    "\n",
    "if not len(selected_hotels)==0:\n",
    "    databricks_instance = \"adb-4286524806154993.13.azuredatabricks.net\"\n",
    "    scope = f\"phg-data-{env}-dbsp-dbxbackend\"\n",
    "    restapi = f\"phg-data-{env}-scrt-api\"\n",
    "\n",
    "    ACCESS_TOKEN  = dbutils.secrets.get(scope = scope, key =restapi)\n",
    "    JOB_ID = \"880810573214147\"\n",
    "\n",
    "    api_url = f\"https://{databricks_instance}/api/2.1/jobs/run-now\"\n",
    "\n",
    "    headers = {\n",
    "        \"Authorization\": f\"Bearer {ACCESS_TOKEN}\",\n",
    "        \"Content-Type\": \"application/json\"\n",
    "    }\n",
    "\n",
    "    job_payload = {\n",
    "        \"job_id\": JOB_ID,\n",
    "        \"notebook_params\": {\n",
    "            \"selected_hotels\": selected_hotels_str,\n",
    "        }\n",
    "    }\n",
    "\n",
    "    response = requests.post(api_url, headers=headers, json=job_payload)\n",
    "    print(response)\n",
    "\n",
    "    # Check if the request was successful\n",
    "    if response.status_code == 200:\n",
    "        response_json = response.json()\n",
    "        print(\"Job triggered successfully!\")\n",
    "        print(f\"Run ID: {response_json['run_id']}\")\n",
    "    else:\n",
    "        response_json = response.json()\n",
    "        print(\"Failed to trigger job.\")\n",
    "        print(f\"Error message: {response_json['error_message']}\")\n",
    "\n",
    "else:\n",
    "    raise ValueError(\"No selected hotels were provided. Please run the model cache script manually\")"
   ]
  },
  {
   "cell_type": "code",
   "execution_count": 0,
   "metadata": {
    "application/vnd.databricks.v1+cell": {
     "cellMetadata": {},
     "inputWidgets": {},
     "nuid": "935520b5-ab47-4f63-b473-1fed4351f96a",
     "showTitle": false,
     "tableResultSettingsMap": {},
     "title": ""
    }
   },
   "outputs": [],
   "source": []
  }
 ],
 "metadata": {
  "application/vnd.databricks.v1+notebook": {
   "computePreferences": null,
   "dashboards": [],
   "environmentMetadata": null,
   "language": "python",
   "notebookMetadata": {},
   "notebookName": "trigger_model_caching",
   "widgets": {}
  },
  "language_info": {
   "name": "python"
  }
 },
 "nbformat": 4,
 "nbformat_minor": 0
}